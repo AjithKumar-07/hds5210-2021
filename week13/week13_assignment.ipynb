{
 "cells": [
  {
   "cell_type": "markdown",
   "metadata": {
    "nbgrader": {
     "grade": false,
     "grade_id": "cell-fc1c39d0d6f8b82a",
     "locked": true,
     "schema_version": 1,
     "solution": false
    }
   },
   "source": [
    "# Week 13 Programming Assignment\n",
    "\n",
    "The final thing for this semester that we haven't exercised, yet, is working with databases and combining data from multiple different sources.  In this last assignment of the semester before the final project, we'll be combining data from the internet, an existing database, and some local files on our Jupyter server.\n",
    "\n",
    "**Please be careful to make sure that any code creating database tables has your username in the table name so that they don't conflict with other students.  The database is a shared environment.**\n",
    "\n",
    "This example works with the hospital price transparency data that we've looked at in class from time to time.  For this work, we're going to compare data from two different facilities after it's been merged with another reference data set.\n",
    "\n",
    "Follow the instructions below, writing and testing your code using the assert statements.  Then submit your assignment as usual."
   ]
  },
  {
   "cell_type": "markdown",
   "metadata": {},
   "source": [
    "## 1. Getting data from a relational database\n",
    "\n",
    "In our database, there is a table called `fiverivers` that contains price transparency data for the St. Bernhard's Five Rivers hospital location.  Write code to retrieve that data from the database and load it to a Pandas dataframe.\n",
    "\n",
    "I'll give you the code you need to connect to the database to make the first step easier."
   ]
  },
  {
   "cell_type": "code",
   "execution_count": 1,
   "metadata": {},
   "outputs": [],
   "source": [
    "import os\n",
    "from sqlalchemy import create_engine\n",
    "import pandas as pd\n",
    "\n",
    "host = 'slucor2021b.cgdcoitnku0k.us-east-1.rds.amazonaws.com'\n",
    "port = '3306'\n",
    "user = 'slucor2020'\n",
    "password = 'SLUcor2020'\n",
    "database = 'hds5210'\n",
    "\n",
    "conn = create_engine('mysql+pymysql://' + \n",
    "                     user + ':' + \n",
    "                     password + '@' + \n",
    "                     host + ':' + \n",
    "                     str(port) + '/' + \n",
    "                     database)"
   ]
  },
  {
   "cell_type": "markdown",
   "metadata": {},
   "source": [
    "### 1.1\n",
    "\n",
    "Now, write the code you need to select everything from the `fiverivers` table.  Query those results into a Pandas dataframe called `fiverivers_df`."
   ]
  },
  {
   "cell_type": "code",
   "execution_count": 2,
   "metadata": {},
   "outputs": [],
   "source": [
    "fiverivers = pd.read_sql('select * from fiverivers',conn)"
   ]
  },
  {
   "cell_type": "markdown",
   "metadata": {},
   "source": [
    "### 1.2\n",
    "\n",
    "Demonstrate what your `fiverivers` dataframe has been printing the first few rows to the page here."
   ]
  },
  {
   "cell_type": "code",
   "execution_count": 3,
   "metadata": {},
   "outputs": [
    {
     "data": {
      "text/html": [
       "<div>\n",
       "<style scoped>\n",
       "    .dataframe tbody tr th:only-of-type {\n",
       "        vertical-align: middle;\n",
       "    }\n",
       "\n",
       "    .dataframe tbody tr th {\n",
       "        vertical-align: top;\n",
       "    }\n",
       "\n",
       "    .dataframe thead th {\n",
       "        text-align: right;\n",
       "    }\n",
       "</style>\n",
       "<table border=\"1\" class=\"dataframe\">\n",
       "  <thead>\n",
       "    <tr style=\"text-align: right;\">\n",
       "      <th></th>\n",
       "      <th>source</th>\n",
       "      <th>hospital_system</th>\n",
       "      <th>hospital</th>\n",
       "      <th>hospital_npi</th>\n",
       "      <th>hospital_ein</th>\n",
       "      <th>medicare_facility_id</th>\n",
       "      <th>raw_plan</th>\n",
       "      <th>payer</th>\n",
       "      <th>payer_plan</th>\n",
       "      <th>item_id</th>\n",
       "      <th>...</th>\n",
       "      <th>item_description</th>\n",
       "      <th>rev_code</th>\n",
       "      <th>ms_drg</th>\n",
       "      <th>cpt_hcpcs</th>\n",
       "      <th>med_ndc</th>\n",
       "      <th>med_qty</th>\n",
       "      <th>med_units</th>\n",
       "      <th>setting</th>\n",
       "      <th>charged_amt</th>\n",
       "      <th>allowed_amt</th>\n",
       "    </tr>\n",
       "  </thead>\n",
       "  <tbody>\n",
       "    <tr>\n",
       "      <th>0</th>\n",
       "      <td>FIVERIVERS</td>\n",
       "      <td>St. Bernards Healthcare</td>\n",
       "      <td>Five Rivers Medical Center</td>\n",
       "      <td>1528360989</td>\n",
       "      <td>273970823</td>\n",
       "      <td>40047</td>\n",
       "      <td>BLUE ADVANTAGE PPO</td>\n",
       "      <td>ABCBS</td>\n",
       "      <td>Blue Advantage PPO</td>\n",
       "      <td>162014722-G0008</td>\n",
       "      <td>...</td>\n",
       "      <td>Administration Of Vaccine</td>\n",
       "      <td>None</td>\n",
       "      <td>None</td>\n",
       "      <td>G0008</td>\n",
       "      <td>None</td>\n",
       "      <td>None</td>\n",
       "      <td>None</td>\n",
       "      <td>OP</td>\n",
       "      <td>163.38</td>\n",
       "      <td>197.52</td>\n",
       "    </tr>\n",
       "    <tr>\n",
       "      <th>1</th>\n",
       "      <td>FIVERIVERS</td>\n",
       "      <td>St. Bernards Healthcare</td>\n",
       "      <td>Five Rivers Medical Center</td>\n",
       "      <td>1528360989</td>\n",
       "      <td>273970823</td>\n",
       "      <td>40047</td>\n",
       "      <td>BLUE ADVANTAGE PPO</td>\n",
       "      <td>ABCBS</td>\n",
       "      <td>Blue Advantage PPO</td>\n",
       "      <td>162014722-90471</td>\n",
       "      <td>...</td>\n",
       "      <td>Administration Of Vaccine</td>\n",
       "      <td>None</td>\n",
       "      <td>None</td>\n",
       "      <td>90471</td>\n",
       "      <td>None</td>\n",
       "      <td>None</td>\n",
       "      <td>None</td>\n",
       "      <td>OP</td>\n",
       "      <td>163.38</td>\n",
       "      <td>197.52</td>\n",
       "    </tr>\n",
       "    <tr>\n",
       "      <th>2</th>\n",
       "      <td>FIVERIVERS</td>\n",
       "      <td>St. Bernards Healthcare</td>\n",
       "      <td>Five Rivers Medical Center</td>\n",
       "      <td>1528360989</td>\n",
       "      <td>273970823</td>\n",
       "      <td>40047</td>\n",
       "      <td>UNITED HEALTHCARE MEDICARE ADVANTAGE</td>\n",
       "      <td>United Healthcare</td>\n",
       "      <td>Medicare Advantage</td>\n",
       "      <td>162014731-G0008</td>\n",
       "      <td>...</td>\n",
       "      <td>Administration Of Vaccine</td>\n",
       "      <td>None</td>\n",
       "      <td>None</td>\n",
       "      <td>G0008</td>\n",
       "      <td>None</td>\n",
       "      <td>None</td>\n",
       "      <td>None</td>\n",
       "      <td>OP</td>\n",
       "      <td>163.38</td>\n",
       "      <td>22.03</td>\n",
       "    </tr>\n",
       "    <tr>\n",
       "      <th>3</th>\n",
       "      <td>FIVERIVERS</td>\n",
       "      <td>St. Bernards Healthcare</td>\n",
       "      <td>Five Rivers Medical Center</td>\n",
       "      <td>1528360989</td>\n",
       "      <td>273970823</td>\n",
       "      <td>40047</td>\n",
       "      <td>UNITED HEALTHCARE MEDICARE ADVANTAGE</td>\n",
       "      <td>United Healthcare</td>\n",
       "      <td>Medicare Advantage</td>\n",
       "      <td>162014731-90471</td>\n",
       "      <td>...</td>\n",
       "      <td>Administration Of Vaccine</td>\n",
       "      <td>None</td>\n",
       "      <td>None</td>\n",
       "      <td>90471</td>\n",
       "      <td>None</td>\n",
       "      <td>None</td>\n",
       "      <td>None</td>\n",
       "      <td>OP</td>\n",
       "      <td>163.38</td>\n",
       "      <td>22.03</td>\n",
       "    </tr>\n",
       "    <tr>\n",
       "      <th>4</th>\n",
       "      <td>FIVERIVERS</td>\n",
       "      <td>St. Bernards Healthcare</td>\n",
       "      <td>Five Rivers Medical Center</td>\n",
       "      <td>1528360989</td>\n",
       "      <td>273970823</td>\n",
       "      <td>40047</td>\n",
       "      <td>CIGNA COMMERCIAL</td>\n",
       "      <td>Cigna</td>\n",
       "      <td>Commercial</td>\n",
       "      <td>162014727-G0008</td>\n",
       "      <td>...</td>\n",
       "      <td>Administration Of Vaccine</td>\n",
       "      <td>None</td>\n",
       "      <td>None</td>\n",
       "      <td>G0008</td>\n",
       "      <td>None</td>\n",
       "      <td>None</td>\n",
       "      <td>None</td>\n",
       "      <td>OP</td>\n",
       "      <td>163.38</td>\n",
       "      <td>56.68</td>\n",
       "    </tr>\n",
       "  </tbody>\n",
       "</table>\n",
       "<p>5 rows × 21 columns</p>\n",
       "</div>"
      ],
      "text/plain": [
       "       source          hospital_system                    hospital  \\\n",
       "0  FIVERIVERS  St. Bernards Healthcare  Five Rivers Medical Center   \n",
       "1  FIVERIVERS  St. Bernards Healthcare  Five Rivers Medical Center   \n",
       "2  FIVERIVERS  St. Bernards Healthcare  Five Rivers Medical Center   \n",
       "3  FIVERIVERS  St. Bernards Healthcare  Five Rivers Medical Center   \n",
       "4  FIVERIVERS  St. Bernards Healthcare  Five Rivers Medical Center   \n",
       "\n",
       "   hospital_npi  hospital_ein  medicare_facility_id  \\\n",
       "0    1528360989     273970823                 40047   \n",
       "1    1528360989     273970823                 40047   \n",
       "2    1528360989     273970823                 40047   \n",
       "3    1528360989     273970823                 40047   \n",
       "4    1528360989     273970823                 40047   \n",
       "\n",
       "                               raw_plan              payer  \\\n",
       "0                    BLUE ADVANTAGE PPO              ABCBS   \n",
       "1                    BLUE ADVANTAGE PPO              ABCBS   \n",
       "2  UNITED HEALTHCARE MEDICARE ADVANTAGE  United Healthcare   \n",
       "3  UNITED HEALTHCARE MEDICARE ADVANTAGE  United Healthcare   \n",
       "4                      CIGNA COMMERCIAL              Cigna   \n",
       "\n",
       "           payer_plan          item_id  ...           item_description  \\\n",
       "0  Blue Advantage PPO  162014722-G0008  ...  Administration Of Vaccine   \n",
       "1  Blue Advantage PPO  162014722-90471  ...  Administration Of Vaccine   \n",
       "2  Medicare Advantage  162014731-G0008  ...  Administration Of Vaccine   \n",
       "3  Medicare Advantage  162014731-90471  ...  Administration Of Vaccine   \n",
       "4          Commercial  162014727-G0008  ...  Administration Of Vaccine   \n",
       "\n",
       "  rev_code ms_drg cpt_hcpcs med_ndc med_qty med_units setting charged_amt  \\\n",
       "0     None   None     G0008    None    None      None      OP      163.38   \n",
       "1     None   None     90471    None    None      None      OP      163.38   \n",
       "2     None   None     G0008    None    None      None      OP      163.38   \n",
       "3     None   None     90471    None    None      None      OP      163.38   \n",
       "4     None   None     G0008    None    None      None      OP      163.38   \n",
       "\n",
       "   allowed_amt  \n",
       "0       197.52  \n",
       "1       197.52  \n",
       "2        22.03  \n",
       "3        22.03  \n",
       "4        56.68  \n",
       "\n",
       "[5 rows x 21 columns]"
      ]
     },
     "execution_count": 3,
     "metadata": {},
     "output_type": "execute_result"
    }
   ],
   "source": [
    "fiverivers.head()"
   ]
  },
  {
   "cell_type": "markdown",
   "metadata": {},
   "source": [
    "### 1.3\n",
    "\n",
    "How many total rows and columns does that database table have?"
   ]
  },
  {
   "cell_type": "code",
   "execution_count": 4,
   "metadata": {},
   "outputs": [
    {
     "data": {
      "text/plain": [
       "(3376, 21)"
      ]
     },
     "execution_count": 4,
     "metadata": {},
     "output_type": "execute_result"
    }
   ],
   "source": [
    "fiverivers.shape"
   ]
  },
  {
   "cell_type": "markdown",
   "metadata": {},
   "source": [
    "### 1.4\n",
    "\n",
    "How many rows does it have where the `payer` is `ABCBS`?"
   ]
  },
  {
   "cell_type": "code",
   "execution_count": 5,
   "metadata": {},
   "outputs": [
    {
     "data": {
      "text/plain": [
       "529"
      ]
     },
     "execution_count": 5,
     "metadata": {},
     "output_type": "execute_result"
    }
   ],
   "source": [
    "sum(fiverivers['payer'] == 'ABCBS')"
   ]
  },
  {
   "cell_type": "markdown",
   "metadata": {},
   "source": [
    "## 2. Reading JSON data\n",
    "\n",
    "We also want to get data for St. Bernards Medical Center, but that data is only in a JSON file format.  You can find it in your data directory or read it from `/data/sbmc_raw.json`.  Load that data using Pandas and answer the questions below.  You do not need to load this file into Pandas."
   ]
  },
  {
   "cell_type": "code",
   "execution_count": 6,
   "metadata": {},
   "outputs": [],
   "source": [
    "import json\n",
    "\n",
    "with open('/data/sbmc_raw.json') as f:\n",
    "    sbmc = json.load(f)"
   ]
  },
  {
   "cell_type": "markdown",
   "metadata": {},
   "source": [
    "### 2.1\n",
    "\n",
    "How many rows are there in this data?"
   ]
  },
  {
   "cell_type": "code",
   "execution_count": 7,
   "metadata": {},
   "outputs": [
    {
     "data": {
      "text/plain": [
       "3635"
      ]
     },
     "execution_count": 7,
     "metadata": {},
     "output_type": "execute_result"
    }
   ],
   "source": [
    "len(sbmc)"
   ]
  },
  {
   "cell_type": "markdown",
   "metadata": {},
   "source": [
    "### 2.2\n",
    "\n",
    "Take a peak at the first item in the JSON list."
   ]
  },
  {
   "cell_type": "code",
   "execution_count": 8,
   "metadata": {},
   "outputs": [
    {
     "data": {
      "text/plain": [
       "{'id': 162045918,\n",
       " 'keyStr_Associated_Codes': '\\tG0008,G0009,90471',\n",
       " 'num_Avg_Gross_Charge': 238.74,\n",
       " 'num_Cash_Discount': 155.18,\n",
       " 'num_DeIdentified_Max_Allowed': 348.23,\n",
       " 'num_Deidentified_Min_Allowed': 17.48,\n",
       " 'keyStr_description': 'Administration Of Vaccine',\n",
       " 'keyStr_iobSelection': 'Outpatient',\n",
       " 'str_nonperformed': '0',\n",
       " 'str_payer': 'UNITED HEALTHCARE MEDICARE ADVANTAGE',\n",
       " 'num_Payer_Allowed_Amount': 40.83,\n",
       " 'num_payerId': '33'}"
      ]
     },
     "execution_count": 8,
     "metadata": {},
     "output_type": "execute_result"
    }
   ],
   "source": [
    "sbmc[0]"
   ]
  },
  {
   "cell_type": "markdown",
   "metadata": {},
   "source": [
    "### 2.3\n",
    "\n",
    "You'll notice a field called `str_payer`.  How many unique values are there in that field and what are they?"
   ]
  },
  {
   "cell_type": "code",
   "execution_count": 9,
   "metadata": {},
   "outputs": [],
   "source": [
    "payers = set([x['str_payer'] for x in sbmc])"
   ]
  },
  {
   "cell_type": "code",
   "execution_count": 10,
   "metadata": {},
   "outputs": [
    {
     "data": {
      "text/plain": [
       "35"
      ]
     },
     "execution_count": 10,
     "metadata": {},
     "output_type": "execute_result"
    }
   ],
   "source": [
    "len(payers)"
   ]
  },
  {
   "cell_type": "code",
   "execution_count": 11,
   "metadata": {},
   "outputs": [
    {
     "data": {
      "text/plain": [
       "{'ADMINISTRATIVE CONCEPTS PPO',\n",
       " 'AETNA COMMERCIAL',\n",
       " 'AETNA HMO',\n",
       " 'AETNA MEDICARE ADVANTAGE',\n",
       " 'AETNA PPO',\n",
       " 'ALLEGIANCE BENEFIT PLAN MANAGEMENT COMMERCIAL',\n",
       " 'ALLIED BENEFIT SYSTEM COMMERCIAL',\n",
       " 'ALLWELL COMMERCIAL',\n",
       " 'ALLWELL MANAGED MEDICAID',\n",
       " 'ALLWELL MEDICARE ADVANTAGE',\n",
       " 'AMBETTER COMMERCIAL',\n",
       " 'AMBETTER MANAGED MEDICAID',\n",
       " 'AMBETTER MEDICARE ADVANTAGE',\n",
       " 'BENEFIT ADMINISTRATIVE SYSTEMS COMMERCIAL',\n",
       " 'BENESYS, INC. COMMERCIAL',\n",
       " 'BLUE ADVANTAGE PPO',\n",
       " 'BLUECROSS BLUESHIELD COMMERCIAL',\n",
       " 'BLUECROSS BLUESHIELD MEDICARE ADVANTAGE',\n",
       " 'CIGNA COMMERCIAL',\n",
       " 'CONNECTICUT GENERAL LIFE INSURANCE COMPANY COMMERCIAL',\n",
       " 'HARMONY HEALTH PLAN MEDICARE ADVANTAGE',\n",
       " 'HEALTH ADVANTAGE MEDICARE ADVANTAGE',\n",
       " 'HUMANA MEDICARE ADVANTAGE',\n",
       " 'MEDPAY COMMERCIAL',\n",
       " 'MERITAIN HEALTH COMMERCIAL',\n",
       " 'MUNICIPAL COMMERCIAL',\n",
       " 'PLANNED ADMINISTRATORS INC COMMERCIAL',\n",
       " 'QUALCHOICE COMMERCIAL',\n",
       " 'TRUSTMARK HEALTH BENEFITS COMMERCIAL',\n",
       " 'Trustmark Health Benefits COMMERCIAL',\n",
       " 'UMR COMMERCIAL',\n",
       " 'UMR Preferred Provider Organization (PPO)',\n",
       " 'UNITED HEALTHCARE COMMERCIAL',\n",
       " 'UNITED HEALTHCARE MEDICARE ADVANTAGE',\n",
       " 'WELLFLEET COMMERCIAL'}"
      ]
     },
     "execution_count": 11,
     "metadata": {},
     "output_type": "execute_result"
    }
   ],
   "source": [
    "payers"
   ]
  },
  {
   "cell_type": "markdown",
   "metadata": {},
   "source": [
    "## 3. Reading more JSON!\n",
    "\n",
    "The problem with combining these two data sets is that they aren't the same format and (what's worse!!) some of the data internally that should be standardized (e.g. payer and payer plan) is not standardized.\n",
    "\n",
    "We've build a \"mapping\" file that translates payer names from the `sbmc.json` data file into a common set of names.  This other JSON file is called `payer_plan_sbmc.json`. "
   ]
  },
  {
   "cell_type": "markdown",
   "metadata": {},
   "source": [
    "### 3.1\n",
    "\n",
    "Load it into a Python object to take a look at it."
   ]
  },
  {
   "cell_type": "code",
   "execution_count": 12,
   "metadata": {},
   "outputs": [],
   "source": [
    "with open('/data/payer_plans_sbmc.json') as f:\n",
    "    mapper = json.load(f)"
   ]
  },
  {
   "cell_type": "code",
   "execution_count": 13,
   "metadata": {},
   "outputs": [
    {
     "data": {
      "text/plain": [
       "{'ADMINISTRATIVE CONCEPTS PPO': {'payer': 'Administrative Concepts',\n",
       "  'payer_plan': 'PPO'},\n",
       " 'AETNA COMMERCIAL': {'payer': 'Aetna', 'payer_plan': 'Commercial'},\n",
       " 'AETNA HMO': {'payer': 'Aetna', 'payer_plan': 'HMO'},\n",
       " 'AETNA MEDICARE ADVANTAGE': {'payer': 'Aetna',\n",
       "  'payer_plan': 'Medicare Advantage'},\n",
       " 'AETNA PPO': {'payer': 'Aetna', 'payer_plan': 'PPO'},\n",
       " 'ALLEGIANCE BENEFIT PLAN MANAGEMENT COMMERCIAL': {'payer': 'Allegiance Benefit Plan Management',\n",
       "  'payer_plan': 'Commercial'},\n",
       " 'ALLIED BENEFIT SYSTEM COMMERCIAL': {'payer': 'Allied Benefit System',\n",
       "  'payer_plan': 'Commercial'},\n",
       " 'ALLWELL COMMERCIAL': {'payer': 'Allwell', 'payer_plan': 'Commercial'},\n",
       " 'ALLWELL MANAGED MEDICAID': {'payer': 'Allwell',\n",
       "  'payer_plan': 'Managed Medicaid'},\n",
       " 'ALLWELL MEDICARE ADVANTAGE': {'payer': 'Allwell',\n",
       "  'payer_plan': 'Medicare Advantage'},\n",
       " 'AMBETTER COMMERCIAL': {'payer': 'Ambetter', 'payer_plan': 'Commercial'},\n",
       " 'AMBETTER MANAGED MEDICAID': {'payer': 'Ambetter',\n",
       "  'payer_plan': 'Managed Medicaid'},\n",
       " 'AMBETTER MEDICARE ADVANTAGE': {'payer': 'Ambetter',\n",
       "  'payer_plan': 'Medicare Advantage'},\n",
       " 'BENEFIT ADMINISTRATIVE SYSTEMS COMMERCIAL': {'payer': 'Benefit Administrative Systems',\n",
       "  'payer_plan': 'Commercial'},\n",
       " 'BENESYS, INC. COMMERCIAL': {'payer': 'Benesys Inc.',\n",
       "  'payer_plan': 'Commercial'},\n",
       " 'BLUE ADVANTAGE PPO': {'payer': 'ABCBS', 'payer_plan': 'Blue Advantage PPO'},\n",
       " 'BLUECROSS BLUESHIELD COMMERCIAL': {'payer': 'ABCBS',\n",
       "  'payer_plan': 'Commercial'},\n",
       " 'BLUECROSS BLUESHIELD MEDICARE ADVANTAGE': {'payer': 'ABCBS',\n",
       "  'payer_plan': 'Medicare Advantage'},\n",
       " 'CIGNA COMMERCIAL': {'payer': 'Cigna', 'payer_plan': 'Commercial'},\n",
       " 'CONNECTICUT GENERAL LIFE INSURANCE COMPANY COMMERCIAL': {'payer': 'Connecticut General Life Insurance Co.',\n",
       "  'payer_plan': 'Commercial'},\n",
       " 'HARMONY HEALTH PLAN MEDICARE ADVANTAGE': {'payer': 'Harmonay Health Plan',\n",
       "  'payer_plan': 'Medicare Advantage'},\n",
       " 'HEALTH ADVANTAGE MEDICARE ADVANTAGE': {'payer': 'Health Advantage',\n",
       "  'payer_plan': 'Medicare Advantage'},\n",
       " 'HUMANA MEDICARE ADVANTAGE': {'payer': 'Humana',\n",
       "  'payer_plan': 'Medicare Advantage'},\n",
       " 'MEDPAY COMMERCIAL': {'payer': 'Medpay', 'payer_plan': 'Commercial'},\n",
       " 'MERITAIN HEALTH COMMERCIAL': {'payer': 'Meritain Health',\n",
       "  'payer_plan': 'Commercial'},\n",
       " 'MUNICIPAL COMMERCIAL': {'payer': 'Municipal', 'payer_plan': 'Commercial'},\n",
       " 'num_Cash_Discount': {'payer': 'Unspecified', 'payer_plan': 'Cash'},\n",
       " 'PLANNED ADMINISTRATORS INC COMMERCIAL': {'payer': 'Planned Administrators Inc',\n",
       "  'payer_plan': 'Commercial'},\n",
       " 'QUALCHOICE COMMERCIAL': {'payer': 'Qualchoice', 'payer_plan': 'Commercial'},\n",
       " 'TRUSTMARK HEALTH BENEFITS COMMERCIAL': {'payer': 'Trustmark Health Benefits',\n",
       "  'payer_plan': 'Commercial'},\n",
       " 'Trustmark Health Benefits COMMERCIAL': {'payer': 'Trustmark Health Benefits',\n",
       "  'payer_plan': 'Commercial'},\n",
       " 'UMR COMMERCIAL': {'payer': 'UMR', 'payer_plan': 'Commercial'},\n",
       " 'UMR Preferred Provider Organization (PPO)': {'payer': 'UMR',\n",
       "  'payer_plan': 'PPO'},\n",
       " 'UNITED HEALTHCARE COMMERCIAL': {'payer': 'United Healthcare',\n",
       "  'payer_plan': 'Commercial'},\n",
       " 'UNITED HEALTHCARE MEDICARE ADVANTAGE': {'payer': 'United Healthcare',\n",
       "  'payer_plan': 'Medicare Advantage'},\n",
       " 'WELLFLEET COMMERCIAL': {'payer': 'Wellfleet', 'payer_plan': 'Commercial'}}"
      ]
     },
     "execution_count": 13,
     "metadata": {},
     "output_type": "execute_result"
    }
   ],
   "source": [
    "mapper"
   ]
  },
  {
   "cell_type": "markdown",
   "metadata": {},
   "source": [
    "### 3.2\n",
    "\n",
    "How many unique values are there in this list?"
   ]
  },
  {
   "cell_type": "code",
   "execution_count": 14,
   "metadata": {},
   "outputs": [
    {
     "data": {
      "text/plain": [
       "36"
      ]
     },
     "execution_count": 14,
     "metadata": {},
     "output_type": "execute_result"
    }
   ],
   "source": [
    "len(mapper)"
   ]
  },
  {
   "cell_type": "markdown",
   "metadata": {},
   "source": [
    "## 4. Combine!"
   ]
  },
  {
   "cell_type": "markdown",
   "metadata": {},
   "source": [
    "### 4.1\n",
    "\n",
    "The first thing we want to do is combine the two JSON documents so that we can have our \"clean\" payer and plan information in the same list and data structure as the SBMC data.  From there, we'll able to aggregate data in common ways and compare the numbers.\n",
    "\n",
    "In this step, combine the two JSON documents so that the output has one item for every item in the sbmc input file, find the matching payer name in the payer_plan_sbmc.json data, and add two new entries to the dictionaries in your `sbmc` list: `payer` and `payer_plan`.  The assert should help you see what the updated structure should look like."
   ]
  },
  {
   "cell_type": "code",
   "execution_count": 15,
   "metadata": {},
   "outputs": [],
   "source": [
    "# Getting number of rows in sbmc\n",
    "nrows = len(sbmc)\n",
    "# iterating through all rows\n",
    "for i in range(nrows):\n",
    "    # getting str_payer of the ith row\n",
    "    str_payer = sbmc[i][\"str_payer\"]\n",
    "\n",
    "    # getting payer and payer_plan variable from mapper.\n",
    "    payer = mapper[str_payer][\"payer\"]\n",
    "    payer_plan = mapper[str_payer][\"payer_plan\"]\n",
    "\n",
    "    # putting payer and payer_plan into the row\n",
    "    sbmc[i][\"payer\"] = payer\n",
    "    sbmc[i][\"payer_plan\"] = payer_plan"
   ]
  },
  {
   "cell_type": "code",
   "execution_count": 16,
   "metadata": {},
   "outputs": [],
   "source": [
    "assert sbmc[0] == {'id': 162045918,\n",
    " 'keyStr_Associated_Codes': '\\tG0008,G0009,90471',\n",
    " 'num_Avg_Gross_Charge': 238.74,\n",
    " 'num_Cash_Discount': 155.18,\n",
    " 'num_DeIdentified_Max_Allowed': 348.23,\n",
    " 'num_Deidentified_Min_Allowed': 17.48,\n",
    " 'keyStr_description': 'Administration Of Vaccine',\n",
    " 'keyStr_iobSelection': 'Outpatient',\n",
    " 'str_nonperformed': '0',\n",
    " 'str_payer': 'UNITED HEALTHCARE MEDICARE ADVANTAGE',\n",
    " 'num_Payer_Allowed_Amount': 40.83,\n",
    " 'num_payerId': '33',\n",
    " 'payer': 'United Healthcare',\n",
    " 'payer_plan': 'Medicare Advantage'}"
   ]
  },
  {
   "cell_type": "markdown",
   "metadata": {},
   "source": [
    "### 4.2\n",
    "\n",
    "Inspect the first item in your list to make sure it now has `payer` and `payer_plan` entries in it."
   ]
  },
  {
   "cell_type": "code",
   "execution_count": 17,
   "metadata": {},
   "outputs": [
    {
     "name": "stdout",
     "output_type": "stream",
     "text": [
      "The payer entry is present in the data.\n",
      "The payer_plan entry is present in the data.\n"
     ]
    }
   ],
   "source": [
    "if \"payer\" in sbmc[0].keys():\n",
    "  print(\"The payer entry is present in the data.\")\n",
    "else:\n",
    "  print(\"payer is not present in the data.\")\n",
    "\n",
    "if \"payer_plan\" in sbmc[0].keys():\n",
    "  print(\"The payer_plan entry is present in the data.\")\n",
    "else:\n",
    "  print(\"The payer_plan entry is not present in the data.\")"
   ]
  },
  {
   "cell_type": "markdown",
   "metadata": {},
   "source": [
    "### 4.3\n",
    "\n",
    "Now you should take the time to convert you JSON into a Pandas dataframe.  Assuming your JSON looks like the sample below, Pandas can do it automatically with `df = pd.DataFrame(your_data)`"
   ]
  },
  {
   "cell_type": "code",
   "execution_count": 18,
   "metadata": {},
   "outputs": [
    {
     "name": "stdout",
     "output_type": "stream",
     "text": [
      "<class 'pandas.core.frame.DataFrame'>\n",
      "RangeIndex: 3635 entries, 0 to 3634\n",
      "Data columns (total 14 columns):\n",
      " #   Column                        Non-Null Count  Dtype  \n",
      "---  ------                        --------------  -----  \n",
      " 0   id                            3635 non-null   int64  \n",
      " 1   keyStr_Associated_Codes       3635 non-null   object \n",
      " 2   num_Avg_Gross_Charge          3635 non-null   float64\n",
      " 3   num_Cash_Discount             3635 non-null   float64\n",
      " 4   num_DeIdentified_Max_Allowed  3635 non-null   float64\n",
      " 5   num_Deidentified_Min_Allowed  3635 non-null   float64\n",
      " 6   keyStr_description            3635 non-null   object \n",
      " 7   keyStr_iobSelection           3635 non-null   object \n",
      " 8   str_nonperformed              3635 non-null   object \n",
      " 9   str_payer                     3635 non-null   object \n",
      " 10  num_Payer_Allowed_Amount      3635 non-null   float64\n",
      " 11  num_payerId                   3635 non-null   object \n",
      " 12  payer                         3635 non-null   object \n",
      " 13  payer_plan                    3635 non-null   object \n",
      "dtypes: float64(5), int64(1), object(8)\n",
      "memory usage: 397.7+ KB\n"
     ]
    }
   ],
   "source": [
    "sbmc_df = pd.DataFrame(sbmc)\n",
    "sbmc_df.info()"
   ]
  },
  {
   "cell_type": "code",
   "execution_count": 19,
   "metadata": {},
   "outputs": [
    {
     "name": "stdout",
     "output_type": "stream",
     "text": [
      "<class 'pandas.core.frame.DataFrame'>\n",
      "RangeIndex: 3376 entries, 0 to 3375\n",
      "Data columns (total 21 columns):\n",
      " #   Column                Non-Null Count  Dtype  \n",
      "---  ------                --------------  -----  \n",
      " 0   source                3376 non-null   object \n",
      " 1   hospital_system       3376 non-null   object \n",
      " 2   hospital              3376 non-null   object \n",
      " 3   hospital_npi          3376 non-null   int64  \n",
      " 4   hospital_ein          3376 non-null   int64  \n",
      " 5   medicare_facility_id  3376 non-null   int64  \n",
      " 6   raw_plan              3376 non-null   object \n",
      " 7   payer                 3376 non-null   object \n",
      " 8   payer_plan            3376 non-null   object \n",
      " 9   item_id               3376 non-null   object \n",
      " 10  item_type             3376 non-null   object \n",
      " 11  item_description      3376 non-null   object \n",
      " 12  rev_code              0 non-null      object \n",
      " 13  ms_drg                0 non-null      object \n",
      " 14  cpt_hcpcs             3376 non-null   object \n",
      " 15  med_ndc               0 non-null      object \n",
      " 16  med_qty               0 non-null      object \n",
      " 17  med_units             0 non-null      object \n",
      " 18  setting               3376 non-null   object \n",
      " 19  charged_amt           3376 non-null   float64\n",
      " 20  allowed_amt           3376 non-null   float64\n",
      "dtypes: float64(2), int64(3), object(16)\n",
      "memory usage: 554.0+ KB\n"
     ]
    }
   ],
   "source": [
    "fiverivers_df = pd.DataFrame(fiverivers)\n",
    "fiverivers_df.info()"
   ]
  },
  {
   "cell_type": "markdown",
   "metadata": {},
   "source": [
    "## 5 Aggregate and Compare\n",
    "\n",
    "In this final step, we're going to aggregate both the Five Rivers and the SBMC data to find which has better pricing with ABCBS on average.\n",
    "\n",
    "### 5.1\n",
    "\n",
    "What are the average and median of the `allowed_amt` for the payer ABCBS from the Five Rivers data?"
   ]
  },
  {
   "cell_type": "code",
   "execution_count": 20,
   "metadata": {},
   "outputs": [],
   "source": [
    "# Getting allowed_amt for \"ABCBS\" payer\n",
    "ABCBS_allowed_amt_frivers = fiverivers_df[fiverivers_df[\"payer\"] == \"ABCBS\"][\"allowed_amt\"]"
   ]
  },
  {
   "cell_type": "code",
   "execution_count": 21,
   "metadata": {},
   "outputs": [
    {
     "name": "stdout",
     "output_type": "stream",
     "text": [
      "The median of allowed amount for ABCBS Payer group (Five Rivers Data) is:  77.6\n"
     ]
    }
   ],
   "source": [
    "median_river = ABCBS_allowed_amt_frivers.median()\n",
    "print(\"The median of allowed amount for ABCBS Payer group (Five Rivers Data) is: \", median_river)"
   ]
  },
  {
   "cell_type": "code",
   "execution_count": 22,
   "metadata": {},
   "outputs": [
    {
     "name": "stdout",
     "output_type": "stream",
     "text": [
      "The mean of allowed amount for ABCBS Payer group (Five Rivers Data) is:  181.5259357277883\n"
     ]
    }
   ],
   "source": [
    "mean_river = ABCBS_allowed_amt_frivers.mean()\n",
    "print(\"The mean of allowed amount for ABCBS Payer group (Five Rivers Data) is: \", mean_river)"
   ]
  },
  {
   "cell_type": "markdown",
   "metadata": {},
   "source": [
    "### 5.2\n",
    "\n",
    "What are the average and median of the `num_Payer_Allowed_Amount` for the payer ABCBS from the SBMC data?"
   ]
  },
  {
   "cell_type": "code",
   "execution_count": 23,
   "metadata": {},
   "outputs": [],
   "source": [
    "ABCBS_allowed_amt_sbmc = sbmc_df[sbmc_df[\"payer\"] == \"ABCBS\"][\"num_Payer_Allowed_Amount\"]"
   ]
  },
  {
   "cell_type": "code",
   "execution_count": 24,
   "metadata": {},
   "outputs": [
    {
     "name": "stdout",
     "output_type": "stream",
     "text": [
      "The median of allowed amount for ABCBS Payer group (SBMC Data) is:  135.76\n"
     ]
    }
   ],
   "source": [
    "median_sbmc = ABCBS_allowed_amt_sbmc.median()\n",
    "print(\"The median of allowed amount for ABCBS Payer group (SBMC Data) is: \", median_sbmc)"
   ]
  },
  {
   "cell_type": "code",
   "execution_count": 25,
   "metadata": {},
   "outputs": [
    {
     "name": "stdout",
     "output_type": "stream",
     "text": [
      "The mean of allowed amount for ABCBS Payer group (SBMC Data) is:  1477.1990426908148\n"
     ]
    }
   ],
   "source": [
    "mean_sbmc = ABCBS_allowed_amt_sbmc.mean()\n",
    "print(\"The mean of allowed amount for ABCBS Payer group (SBMC Data) is: \", mean_sbmc)"
   ]
  },
  {
   "cell_type": "markdown",
   "metadata": {},
   "source": [
    "### 5.3\n",
    "\n",
    "Do you feel like you can draw any preliminary conclusions from the mean and median values you see above?  What additional questions does it make you want to ask and explore?"
   ]
  },
  {
   "cell_type": "code",
   "execution_count": 26,
   "metadata": {},
   "outputs": [
    {
     "data": {
      "text/plain": [
       "'\\nThe median is very less than mean for both the datasets. This shows that higher values are too high for both distributions.\\nIf the data not biased for either side, the mean and median should be closer, but mean is way too high (specially for SBMC data, it is more than 10 time). It shows that allowed amount\\nfor higher groups is very very high than lower group.\\n\\nThe mean and median for SBMC data is higher than Fiver Rivers Data. \\n'"
      ]
     },
     "execution_count": 26,
     "metadata": {},
     "output_type": "execute_result"
    }
   ],
   "source": [
    "'''\n",
    "The median is very less than mean for both the datasets. This shows that higher values are too high for both distributions.\n",
    "If the data not biased for either side, the mean and median should be closer, but mean is way too high (specially for SBMC data, it is more than 10 time). It shows that allowed amount\n",
    "for higher groups is very very high than lower group.\n",
    "\n",
    "The mean and median for SBMC data is higher than Fiver Rivers Data. \n",
    "'''"
   ]
  },
  {
   "cell_type": "markdown",
   "metadata": {},
   "source": [
    "---\n",
    "\n",
    "---"
   ]
  },
  {
   "cell_type": "markdown",
   "metadata": {},
   "source": [
    "---\n",
    "\n",
    "## Submitting Your Work\n",
    "\n",
    "In order to submit your work, you'll need to use the `git` command line program to **add** your homework file (this file) to your local repository, **commit** your changes to your local repository, and then **push** those changes up to github.com.  From there, I'll be able to **pull** the changes down and do my grading.  I'll provide some feedback, **commit** and **push** my comments back to you.  The first line of code below will **pull** down my comments into your local folders.\n",
    "\n",
    "To run through everything one last time and submit your work:\n",
    "1. Use the `Kernel` -> `Restart Kernel and Run All Cells` menu option to run everything from top to bottom and stop here.\n",
    "2. Save this note with Ctrl-S (or Cmd-S)\n",
    "2. Skip down to the last command cell (the one starting with `%%bash`) and run that cell.\n",
    "\n",
    "If anything fails along the way with this submission part of the process, let me know.  I'll help you troubleshoort."
   ]
  },
  {
   "cell_type": "code",
   "execution_count": null,
   "metadata": {},
   "outputs": [],
   "source": []
  },
  {
   "cell_type": "code",
   "execution_count": 27,
   "metadata": {},
   "outputs": [
    {
     "ename": "AssertionError",
     "evalue": "DO NOT REMOVE THIS LINE",
     "output_type": "error",
     "traceback": [
      "\u001b[0;31m---------------------------------------------------------------------------\u001b[0m",
      "\u001b[0;31mAssertionError\u001b[0m                            Traceback (most recent call last)",
      "\u001b[0;32m<ipython-input-27-cef8011cb395>\u001b[0m in \u001b[0;36m<module>\u001b[0;34m\u001b[0m\n\u001b[0;32m----> 1\u001b[0;31m \u001b[0;32massert\u001b[0m \u001b[0;32mFalse\u001b[0m\u001b[0;34m,\u001b[0m \u001b[0;34m\"DO NOT REMOVE THIS LINE\"\u001b[0m\u001b[0;34m\u001b[0m\u001b[0;34m\u001b[0m\u001b[0m\n\u001b[0m",
      "\u001b[0;31mAssertionError\u001b[0m: DO NOT REMOVE THIS LINE"
     ]
    }
   ],
   "source": [
    "assert False, \"DO NOT REMOVE THIS LINE\""
   ]
  },
  {
   "cell_type": "markdown",
   "metadata": {},
   "source": [
    "---"
   ]
  },
  {
   "cell_type": "code",
   "execution_count": 28,
   "metadata": {},
   "outputs": [
    {
     "name": "stdout",
     "output_type": "stream",
     "text": [
      "Already up to date.\n",
      "[main 3a0bf50] Submitting the week 13 assignment\n",
      " 3 files changed, 1169 insertions(+), 3 deletions(-)\n",
      " create mode 100644 week13/week13_assignment.ipynb\n"
     ]
    },
    {
     "name": "stderr",
     "output_type": "stream",
     "text": [
      "remote: This repository moved. Please use the new location:        \n",
      "remote:   git@github.com:AjithKumar-07/hds5210-2021.git        \n",
      "To github.com:ajithkumar-07/hds5210-2021.git\n",
      "   128ba5c..3a0bf50  main -> main\n"
     ]
    }
   ],
   "source": [
    "%%bash\n",
    "git pull\n",
    "git add week13_assignment.ipynb\n",
    "git commit -a -m \"Submitting the week 13 assignment\"\n",
    "git push"
   ]
  },
  {
   "cell_type": "markdown",
   "metadata": {},
   "source": [
    "\n",
    "---\n",
    "\n",
    "If the message above says something like _Submitting the week 10 review exercises_ or _Everything is up to date_, then your work was submitted correctly."
   ]
  }
 ],
 "metadata": {
  "kernelspec": {
   "display_name": "Python 3",
   "language": "python",
   "name": "python3"
  },
  "language_info": {
   "codemirror_mode": {
    "name": "ipython",
    "version": 3
   },
   "file_extension": ".py",
   "mimetype": "text/x-python",
   "name": "python",
   "nbconvert_exporter": "python",
   "pygments_lexer": "ipython3",
   "version": "3.6.7"
  }
 },
 "nbformat": 4,
 "nbformat_minor": 4
}
