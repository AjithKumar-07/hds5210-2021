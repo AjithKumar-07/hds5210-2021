{
 "cells": [
  {
   "cell_type": "markdown",
   "metadata": {
    "nbgrader": {
     "grade": false,
     "grade_id": "cell-fc1c39d0d6f8b82a",
     "locked": true,
     "schema_version": 1,
     "solution": false
    }
   },
   "source": [
    "# Week 12 Programming Assignment\n",
    "\n",
    "As you're working on identifying data for your final project, it's helpful to spend some time exploring your various data files.  For this week's assignment, I'd like you to take a few of the ideas from the the lectures, review assignment, and tonight's lecture to start exploring the data you plan to use for the final project.\n",
    "\n",
    "For the following activities, you can use just one of the data files that you've identified, or you can do the activities using different data files.  That's up to you.  Please describe what you're doing in a Markdown cell or in the comments of your code.  When you've completed the assignment, submit it as normal."
   ]
  },
  {
   "cell_type": "markdown",
   "metadata": {},
   "source": [
    "### 1. Basic Statistics\n",
    "\n",
    "Use Python to read in your data file and show many rows and columns your data has."
   ]
  },
  {
   "cell_type": "code",
   "execution_count": 1,
   "metadata": {},
   "outputs": [
    {
     "name": "stdout",
     "output_type": "stream",
     "text": [
      "\n",
      "\n",
      "Number of rows: 400\n",
      "Number of Columns: 26\n"
     ]
    }
   ],
   "source": [
    "import pandas as pd\n",
    "import os\n",
    "\n",
    "\n",
    "dataframe1 = pd.read_csv(\"kidney_disease.csv\")\n",
    "\n",
    "\n",
    "# Loading data from local machine in xlsx and json format\n",
    "dataframe2 = pd.read_excel(\"kidney_disease.xlsx\")\n",
    "dataframe3 = pd.read_json(\"kidney_disease.json\")\n",
    "\n",
    "\n",
    "merge = pd.merge(dataframe1[[\"id\", \"age\", \"bp\", \"sg\", \"al\", \"su\", \"rbc\", \"pc\"]], # taking initial 7 columns from dataframe1\n",
    "                 dataframe2[[\"id\", \"pcc\", \"ba\", \"bgr\", \"bu\",\"sc\",\"sod\",\"pot\", \"hemo\", \"pcv\", \"wc\", \"rc\"]], # Another 11 columns from data 2\n",
    "                 on = \"id\"\n",
    "                 )\n",
    "\n",
    "final_data = pd.merge(merge, # taking first merge\n",
    "                      dataframe3[[\"id\", \"htn\", \"dm\", \"cad\", \"appet\", \"pe\", \"ane\", \"classification\"]],\n",
    "                      on = \"id\"\n",
    "                      )\n",
    "\n",
    "\n",
    "final_data.head()\n",
    "\n",
    "# Getting number of rows and columns\n",
    "print(\"\\n\\nNumber of rows: {}\".format(final_data.shape[0]))\n",
    "print(\"Number of Columns: {}\".format(final_data.shape[1]))"
   ]
  },
  {
   "cell_type": "markdown",
   "metadata": {},
   "source": [
    "### 2. Data Diversity\n",
    "\n",
    "Use Python to identify how many unique values each column in your data has.  Use Python to identify which column has the greatest number of distinct values (aka the most diversity)?"
   ]
  },
  {
   "cell_type": "code",
   "execution_count": 2,
   "metadata": {},
   "outputs": [
    {
     "name": "stdout",
     "output_type": "stream",
     "text": [
      "Number of unique in column id are 400\n",
      "Number of unique in column age are 77\n",
      "Number of unique in column bp are 11\n",
      "Number of unique in column sg are 6\n",
      "Number of unique in column al are 7\n",
      "Number of unique in column su are 7\n",
      "Number of unique in column rbc are 3\n",
      "Number of unique in column pc are 3\n",
      "Number of unique in column pcc are 3\n",
      "Number of unique in column ba are 3\n",
      "Number of unique in column bgr are 147\n",
      "Number of unique in column bu are 119\n",
      "Number of unique in column sc are 85\n",
      "Number of unique in column sod are 35\n",
      "Number of unique in column pot are 41\n",
      "Number of unique in column hemo are 116\n",
      "Number of unique in column pcv are 43\n",
      "Number of unique in column wc are 91\n",
      "Number of unique in column rc are 49\n",
      "Number of unique in column htn are 3\n",
      "Number of unique in column dm are 6\n",
      "Number of unique in column cad are 4\n",
      "Number of unique in column appet are 3\n",
      "Number of unique in column pe are 3\n",
      "Number of unique in column ane are 3\n",
      "Number of unique in column classification are 3\n",
      "\n",
      "\n",
      "The bgr column has maximum diversity and number of uniqe values is 147\n",
      "The unique value of classification are ['ckd' 'ckd\\t' 'notckd']\n"
     ]
    }
   ],
   "source": [
    "# Getting number of unique values in each columns\n",
    "#final_data[\"id\"].unique()\n",
    "for col in list(final_data):\n",
    "  print(\"Number of unique in column {} are {}\".format(col, len(final_data[col].unique())))\n",
    "\n",
    "# We will not consider unique values of id columns\n",
    "# We will find out the columns with maximum diversity \n",
    "max_val_col = None\n",
    "max_val = 0\n",
    "for col in list(final_data):\n",
    "  if col!=\"id\" and len(final_data[col].unique())>max_val:\n",
    "    max_val_col = col\n",
    "    max_val =  len(final_data[col].unique())\n",
    "\n",
    "print(\"\\n\\nThe {} column has maximum diversity and number of uniqe values is {}\".format(max_val_col, max_val))\n",
    "\n",
    "# if we see, the classification is shown to have 3 unique value but it should have 2 only\n",
    "print(\"The unique value of classification are {}\".format(final_data[\"classification\"].unique()))\n",
    "\n",
    "#Now we will replace \"ckd\" with \"ckd\\t\"\n",
    "final_data[\"classification\"] = final_data[\"classification\"].replace(\"ckd\\t\", \"ckd\")"
   ]
  },
  {
   "cell_type": "markdown",
   "metadata": {},
   "source": [
    "### 3. Data Redundancy\n",
    "\n",
    "Use Python to identify any columns in your data where the value for every row is the same.  For example, if you had a gender column and all the rows said 'M', then you would want to write the code that helped you determine that."
   ]
  },
  {
   "cell_type": "code",
   "execution_count": 3,
   "metadata": {},
   "outputs": [
    {
     "name": "stdout",
     "output_type": "stream",
     "text": [
      "No column which contains single values. (Analysis including NA values).\n",
      "No column which contains single values. (Analysis after removing NA values).\n"
     ]
    }
   ],
   "source": [
    "# Checking if there is any row in which all values are same(Data Redundancy)\\\n",
    "# FIrst we will check with null values, later we will check by removing null values\n",
    "found = False\n",
    "for col in list(final_data):\n",
    "  # if number of unique values is 1, then there is same data in every column\n",
    "  if len(final_data[col].unique()) == 1:\n",
    "    print(\"The {} Column contains same value. The value is {}. (Analysis including NA values)\".format(col, final_data[col][0]))\n",
    "    found = True\n",
    "if not found:\n",
    "  print(\"No column which contains single values. (Analysis including NA values).\")\n",
    "\n",
    "\n",
    "found = False\n",
    "for col in list(final_data):\n",
    "  # if number of unique values is 1, then there is same data in every column\n",
    "  column = final_data[col]\n",
    "  column = column.dropna(how = \"any\")\n",
    "  if len(column.unique()) == 1:\n",
    "    print(\"The {} Column contains same value. The value is {}. (Analysis after removing NA values)\".format(col, column[0]))\n",
    "    found = True\n",
    "if not found:\n",
    "  print(\"No column which contains single values. (Analysis after removing NA values).\")"
   ]
  },
  {
   "cell_type": "markdown",
   "metadata": {},
   "source": [
    "### 4. Range of Values\n",
    "\n",
    "Your data almost certainly has some numeric columns that can be summed or averaged.  Create a histogram that shows the distribution of values for this column."
   ]
  },
  {
   "cell_type": "code",
   "execution_count": 4,
   "metadata": {},
   "outputs": [
    {
     "data": {
      "text/plain": [
       "'\\nWe can see that people of Age near 60 are more prone to CKD.\\n'"
      ]
     },
     "execution_count": 4,
     "metadata": {},
     "output_type": "execute_result"
    },
    {
     "data": {
      "image/png": "[encoded data removed]",
      "text/plain": [
       "<Figure size 432x288 with 1 Axes>"
      ]
     },
     "metadata": {
      "needs_background": "light"
     },
     "output_type": "display_data"
    }
   ],
   "source": [
    "import matplotlib.pyplot as plt\n",
    "#plotting the histogram with age\n",
    "\n",
    "ax = final_data[final_data[\"classification\"] == \"ckd\"].age.dropna(how = \"any\").plot.hist(legend = True)\n",
    "ax.set_xlabel(\"Age\")\n",
    "ax.set_ylabel(\"Frequency\")\n",
    "ax.plot()\n",
    "\n",
    "'''\n",
    "We can see that people of Age near 60 are more prone to CKD.\n",
    "'''"
   ]
  },
  {
   "cell_type": "markdown",
   "metadata": {},
   "source": [
    "### 5. Discussion\n",
    "\n",
    "Do any additional exploration of this data that you think may be interesting and include your code here.  Then go onto Slack and make a post about what you've observed.  Share your observation.  Share your code, if you like.  Share a screenshot of the data or a chart based on the data.\n",
    "\n",
    "Then comment on at least two other people's observations that they share on Slack.  (Use the reply as thread option in Slack to keep the conversation organized.)"
   ]
  },
  {
   "cell_type": "code",
   "execution_count": 5,
   "metadata": {},
   "outputs": [
    {
     "data": {
      "image/png": "[encoded data removed]",
      "text/plain": [
       "<Figure size 432x288 with 1 Axes>"
      ]
     },
     "metadata": {
      "needs_background": "light"
     },
     "output_type": "display_data"
    },
    {
     "data": {
      "text/plain": [
       "'\\nWe can see that blood pressure of healthy person remains constant with age, but blood pressure of person with CKD increases with Age.\\nAnd we can also see that average blood pressure of diseased group is higher.\\n'"
      ]
     },
     "execution_count": 5,
     "metadata": {},
     "output_type": "execute_result"
    }
   ],
   "source": [
    "# Now we will see the blood pressure with age of people with CKD and notCKD\n",
    "plot_data = final_data[[\"age\", \"bp\", \"classification\"]]\n",
    "ckd_data = final_data[final_data[\"classification\"] == \"ckd\"][[\"age\", \"bp\"]]\n",
    "nckd_data = final_data[final_data[\"classification\"] != \"ckd\"][[\"age\", \"bp\"]]\n",
    "\n",
    "ckd_data = ckd_data.sort_values(by = \"age\")\n",
    "nckd_data = nckd_data.sort_values(by = \"age\")\n",
    "plt.plot(ckd_data[\"age\"], ckd_data[\"bp\"], label = \"ckd\")\n",
    "plt.plot(nckd_data[\"age\"], nckd_data[\"bp\"], label = \"nckd\")\n",
    "plt.xlabel(\"Age\")\n",
    "plt.ylabel(\"Blood Pressure\")\n",
    "plt.title(\"Graph of Blood pressure with Age of Diseased and healthy group\")\n",
    "\n",
    "plt.legend()\n",
    "plt.show()\n",
    "\n",
    "'''\n",
    "We can see that blood pressure of healthy person remains constant with age, but blood pressure of person with CKD increases with Age.\n",
    "And we can also see that average blood pressure of diseased group is higher.\n",
    "'''"
   ]
  },
  {
   "cell_type": "code",
   "execution_count": null,
   "metadata": {},
   "outputs": [],
   "source": []
  },
  {
   "cell_type": "markdown",
   "metadata": {},
   "source": [
    "---\n",
    "\n",
    "## Submitting Your Work\n",
    "\n",
    "In order to submit your work, you'll need to use the `git` command line program to **add** your homework file (this file) to your local repository, **commit** your changes to your local repository, and then **push** those changes up to github.com.  From there, I'll be able to **pull** the changes down and do my grading.  I'll provide some feedback, **commit** and **push** my comments back to you.  The first line of code below will **pull** down my comments into your local folders.\n",
    "\n",
    "To run through everything one last time and submit your work:\n",
    "1. Use the `Kernel` -> `Restart Kernel and Run All Cells` menu option to run everything from top to bottom and stop here.\n",
    "2. Save this note with Ctrl-S (or Cmd-S)\n",
    "2. Skip down to the last command cell (the one starting with `%%bash`) and run that cell.\n",
    "\n",
    "If anything fails along the way with this submission part of the process, let me know.  I'll help you troubleshoort."
   ]
  },
  {
   "cell_type": "code",
   "execution_count": 6,
   "metadata": {},
   "outputs": [
    {
     "ename": "AssertionError",
     "evalue": "DO NOT REMOVE THIS LINE",
     "output_type": "error",
     "traceback": [
      "\u001b[0;31m---------------------------------------------------------------------------\u001b[0m",
      "\u001b[0;31mAssertionError\u001b[0m                            Traceback (most recent call last)",
      "\u001b[0;32m<ipython-input-6-cef8011cb395>\u001b[0m in \u001b[0;36m<module>\u001b[0;34m\u001b[0m\n\u001b[0;32m----> 1\u001b[0;31m \u001b[0;32massert\u001b[0m \u001b[0;32mFalse\u001b[0m\u001b[0;34m,\u001b[0m \u001b[0;34m\"DO NOT REMOVE THIS LINE\"\u001b[0m\u001b[0;34m\u001b[0m\u001b[0;34m\u001b[0m\u001b[0m\n\u001b[0m",
      "\u001b[0;31mAssertionError\u001b[0m: DO NOT REMOVE THIS LINE"
     ]
    }
   ],
   "source": [
    "assert False, \"DO NOT REMOVE THIS LINE\""
   ]
  },
  {
   "cell_type": "markdown",
   "metadata": {},
   "source": [
    "---"
   ]
  },
  {
   "cell_type": "code",
   "execution_count": 7,
   "metadata": {},
   "outputs": [
    {
     "name": "stdout",
     "output_type": "stream",
     "text": [
      "Updating 5e30a66..cc32f5d\n",
      "Fast-forward\n",
      " week09/feedback.md | 3 +++\n",
      " 1 file changed, 3 insertions(+)\n",
      " create mode 100644 week09/feedback.md\n",
      "[main 128ba5c] Submitting the week 12 assignment\n",
      " 2 files changed, 415 insertions(+), 2 deletions(-)\n",
      " create mode 100644 week12/week12_assignment_2.ipynb\n"
     ]
    },
    {
     "name": "stderr",
     "output_type": "stream",
     "text": [
      "From github.com:ajithkumar-07/hds5210-2021\n",
      "   5e30a66..cc32f5d  main       -> origin/main\n",
      "remote: This repository moved. Please use the new location:        \n",
      "remote:   git@github.com:AjithKumar-07/hds5210-2021.git        \n",
      "To github.com:ajithkumar-07/hds5210-2021.git\n",
      "   cc32f5d..128ba5c  main -> main\n"
     ]
    }
   ],
   "source": [
    "%%bash\n",
    "git pull\n",
    "git add week12_assignment_2.ipynb\n",
    "git commit -a -m \"Submitting the week 12 assignment\"\n",
    "git push"
   ]
  },
  {
   "cell_type": "markdown",
   "metadata": {},
   "source": [
    "\n",
    "---\n",
    "\n",
    "If the message above says something like _Submitting the week 10 review exercises_ or _Everything is up to date_, then your work was submitted correctly."
   ]
  }
 ],
 "metadata": {
  "celltoolbar": "Create Assignment",
  "kernelspec": {
   "display_name": "Python 3",
   "language": "python",
   "name": "python3"
  },
  "language_info": {
   "codemirror_mode": {
    "name": "ipython",
    "version": 3
   },
   "file_extension": ".py",
   "mimetype": "text/x-python",
   "name": "python",
   "nbconvert_exporter": "python",
   "pygments_lexer": "ipython3",
   "version": "3.6.7"
  }
 },
 "nbformat": 4,
 "nbformat_minor": 2
}
