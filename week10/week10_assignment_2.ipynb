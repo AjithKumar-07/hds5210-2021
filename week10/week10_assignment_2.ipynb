{
 "cells": [
  {
   "cell_type": "markdown",
   "metadata": {},
   "source": [
    "# Week 10 Assignment\n",
    "\n",
    "Because I was unable to conduct our workshop this week, I'm keeping the assignment light as well.  Below you'll find just two steps for this week: one programming exercise and then a planning activity for your final project.\n",
    "\n",
    "For clarification, the \"final project\" I've been referring to is your \"final.\"  It is not a project in addition to a final exam.  They're one-in-the-same.\n",
    "\n",
    "Please do the programming exercise and verify that your code works using the tests, then think about your final project and fill out the questions in the second part.\n",
    "\n",
    "---\n",
    "---"
   ]
  },
  {
   "cell_type": "markdown",
   "metadata": {},
   "source": [
    "### 47.1: Filtering and summarizing data\n",
    "\n",
    "For this work, you'll find a data file in `/data/complications_all.csv`.\n",
    "\n",
    "Read in the data file and create a variable called `mo_hospitals` that contains a data frame from the `complications_all.csv` file, filtered down to only contain those hospitals from the state of Missouri (MO).\n",
    "\n",
    "Then aggregate that data by hospital into a variable named `mo_summary`.  There are some key fields that we want to summarize:\n",
    "* We want to know the earliest date that each hospital was participating in any program\n",
    "* We want to know the latest date that each hospital stopped participating in any program\n",
    "* We want to know the total number of patients in the denominators of these programs\n",
    "\n",
    "Some things to note:\n",
    "* You will need to convert the `Start Date` and `End Date` to actual datetime fields\n",
    "* You will need to clean up and convert the `Denominator` field to just be numeric - the rule that you should use it to simply remove any records where the `Denominator` is `'Not Available'`\n",
    "\n",
    "\n",
    "The final result of this step should be a new data frame called `mo_summary` that contains one row for each hospital and contains the min start date, max end date, and total denominator.  Use the names `start_date`, `end_date`, and `number` for those columns in `mo_summary`.\n",
    "\n",
    "\n",
    "You do not need to create your code in the form of a function, just make sure your variable names match what I've described above so the tests work."
   ]
  },
  {
   "cell_type": "code",
   "execution_count": 1,
   "metadata": {},
   "outputs": [],
   "source": [
    "import pandas as pd\n",
    "# This is just to show you the name to use for the variable you need to create for this step to pass.\n",
    "mo_hospitals = pd.read_csv('/data/complications_all.csv')\n",
    "\n",
    "State = (mo_hospitals['State'] == 'MO')\n",
    "mo_hospitals = mo_hospitals.loc[State, ['Facility ID', 'Facility Name', 'Address', 'City', 'State', 'ZIP Code', 'County Name', 'Phone Number', 'Measure ID', 'Measure Name', 'Compared to National', 'Denominator', 'Score', 'Lower Estimate', 'Higher Estimate', 'Footnote', 'Start Date', 'End Date']]\n"
   ]
  },
  {
   "cell_type": "code",
   "execution_count": 2,
   "metadata": {},
   "outputs": [],
   "source": [
    "# These assertions will help make sure that you're on the right track.\n",
    "assert(mo_hospitals['State'].unique() == ['MO'])\n",
    "assert(mo_hospitals.shape == (2133,18))"
   ]
  },
  {
   "cell_type": "code",
   "execution_count": 3,
   "metadata": {},
   "outputs": [
    {
     "ename": "SyntaxError",
     "evalue": "invalid syntax (<ipython-input-3-e2a2895518a8>, line 34)",
     "output_type": "error",
     "traceback": [
      "\u001b[0;36m  File \u001b[0;32m\"<ipython-input-3-e2a2895518a8>\"\u001b[0;36m, line \u001b[0;32m34\u001b[0m\n\u001b[0;31m    number.append(sum(new_number))\u001b[0m\n\u001b[0m         ^\u001b[0m\n\u001b[0;31mSyntaxError\u001b[0m\u001b[0;31m:\u001b[0m invalid syntax\n"
     ]
    }
   ],
   "source": [
    "## Date and time format:\n",
    "\n",
    "mo_hospitals['Start Date'] = pd.to_datetime(mo_hospitals['Start Date'], format = '%m/%d/%Y', errors = 'raise')\n",
    "\n",
    "mo_hospitals['End Date'] = pd.to_datetime(mo_hospitals['End Date'], format = '%m/%d/%Y', errors = 'raise')\n",
    "\n",
    "## clearing:\n",
    "\n",
    "filtered_data = mo_hospitals[mo_hospitals['Denominator'] == 'Not Available'].index\n",
    "mo_hospital = mo_hospitals.drop(filtered_data)\n",
    "\n",
    "\n",
    "\n",
    "number_and_time = list(set(list(mo_hospitals['Facility Name'])))\n",
    "starting_time = []\n",
    "ending_time = []\n",
    "number = []\n",
    "        \n",
    "for value in number_and_time:\n",
    "    starttime = []\n",
    "    endtime = []\n",
    "    for key, value in mo_hospitals[mo_hospitals['Facility Name'] == value].iterrows():\n",
    "        starttime.append(list(value)[16])\n",
    "        endtime.append(list(value)[17])\n",
    "    starting_time.append(min(starttime))\n",
    "    ending_time.append(max(endtime))\n",
    "    \n",
    "mo_summary = pd.DataFrame({'starting_time' : starttime, 'ending_time' : endtime })\n",
    "\n",
    "for value in number_and_time:\n",
    "    new_number = []\n",
    "    for key, value in mo_hospitals[mo_hospitals['Facility Name'] == value].iterrows():\n",
    "        new_number.append(int(list((value)[11]))\n",
    "    number.append(sum(new_number))\n",
    "\n",
    "mo_summary = pd.DataFrame({'number': new_number})\n",
    "    \n",
    "mo_summary = pd.DataFrame({'starting_time' : starttime, 'ending_time' : endtime, 'number': new_number})\n",
    "mo_summary.index = number_and_time\n"
   ]
  },
  {
   "cell_type": "code",
   "execution_count": null,
   "metadata": {},
   "outputs": [],
   "source": [
    "assert(mo_summary['number'].sum() == 1766908)\n",
    "assert(mo_summary['start_date'].min() == pd.Timestamp(2015,4,1))\n",
    "assert(mo_summary['end_date'].max() == pd.Timestamp(2018,6,30))\n",
    "assert(mo_summary.shape == (108,3))\n",
    "assert(mo_summary.loc['BARNES JEWISH HOSPITAL'].number == 131313)\n",
    "assert(mo_summary.loc['BOONE HOSPITAL CENTER'].number == 63099)"
   ]
  },
  {
   "cell_type": "markdown",
   "metadata": {},
   "source": [
    "---\n",
    "\n",
    "### 47.2 Planning your final project\n",
    "\n",
    "You should be thinking about the things we've been learning and how you can apply them to your final project.  Use the rubric to help guid your thinking and then answer the questions below.  This is meant as a guide to help you think through what you will do."
   ]
  },
  {
   "cell_type": "markdown",
   "metadata": {},
   "source": [
    "#### A) Data Access\n",
    "\n",
    "Your project should include data from at least three distinct types of sources.  For example: AWS S3, Relational Databases, Internet, Web Services, local files.  List what data sources you're planning to use."
   ]
  },
  {
   "cell_type": "markdown",
   "metadata": {},
   "source": [
    "ANSWER : Internet, local files, Relational Databases"
   ]
  },
  {
   "cell_type": "markdown",
   "metadata": {},
   "source": [
    "#### B. Data Formats\n",
    "\n",
    "Your project should include data that comes in different file formats.  For example: HL7, EDI, HTML, CSV, Excel, JSON, XML.  List what data formats you're planning to use."
   ]
  },
  {
   "cell_type": "markdown",
   "metadata": {},
   "source": [
    "ANSWER : I would like to use HTML, CSV, Excel files"
   ]
  },
  {
   "cell_type": "markdown",
   "metadata": {},
   "source": [
    "#### C. Objective\n",
    "\n",
    "What purpose would your project serve in a real work setting?  Take a couple of paragraphs to write down why this is an interesting product."
   ]
  },
  {
   "cell_type": "markdown",
   "metadata": {},
   "source": [
    "ANSWER : Chronic kidney disease, also called chronic kidney failure, describes the gradual loss of kidney function. When chronic kidney disease reaches an advanced stage, dangerous levels of fluid, electrolytes and wastes can build up in your body.In the early stages of chronic kidney disease, you may have few signs or symptoms. Chronic kidney disease may not become apparent until your kidney function is significantly impaired.Treatment for chronic kidney disease focuses on slowing the progression of the kidney damage, usually by controlling the underlying cause. Chronic kidney disease can progress to end-stage kidney failure, which is fatal without artificial filtering (dialysis) or a kidney transplant.\n",
    "\n",
    "Here, I will take the data information which includes age, blood pressure, albumin, sugar, red blood cells, pus cell, pus cell clumps, bacteria, blood glucose random, blood urea, serum creatinine, sodium, potassium, hemoglobin, packed cell volume, white blood cell count, red blood cell count, hypertension, diabetes mellitus, coronary artery disease, appetite, pedal edema, anemia, classification. And by using python i will try to predict the status of patients like who are suffering whith CKD and who are not suffering with CKD. by using data visualization method i will try to represent it much more clearly. \n",
    "\n",
    "According to me, this way of approach would be a bit unique and helps me to understand even more about how python and machine learning can be helpful in improving patient's health."
   ]
  },
  {
   "cell_type": "markdown",
   "metadata": {},
   "source": [
    "---\n",
    "\n",
    "## Submitting Your Work\n",
    "\n",
    "In order to submit your work, you'll need to use the `git` command line program to **add** your homework file (this file) to your local repository, **commit** your changes to your local repository, and then **push** those changes up to github.com.  From there, I'll be able to **pull** the changes down and do my grading.  I'll provide some feedback, **commit** and **push** my comments back to you.  Next week, I'll show you how to **pull** down my comments.\n",
    "\n",
    "To run through everything one last time and submit your work:\n",
    "1. Use the `Kernel` -> `Restart Kernel and Run All Cells` menu option to run everything from top to bottom and stop here.\n",
    "2. Save this note with Ctrl-S (or Cmd-S)\n",
    "2. Skip down to the last command cell (the one starting with `%%bash`) and run that cell.\n",
    "\n",
    "If anything fails along the way with this submission part of the process, let me know.  I'll help you troubleshoort."
   ]
  },
  {
   "cell_type": "code",
   "execution_count": null,
   "metadata": {},
   "outputs": [],
   "source": [
    "assert False, \"DO NOT REMOVE THIS LINE\""
   ]
  },
  {
   "cell_type": "markdown",
   "metadata": {},
   "source": [
    "---"
   ]
  },
  {
   "cell_type": "code",
   "execution_count": null,
   "metadata": {},
   "outputs": [],
   "source": [
    "%%bash\n",
    "git pull\n",
    "git add week10_assignment_2.ipynb\n",
    "git commit -a -m \"Submitting the week 10 programming assignment\"\n",
    "git push"
   ]
  },
  {
   "cell_type": "markdown",
   "metadata": {},
   "source": [
    "\n",
    "---\n",
    "\n",
    "If the message above says something like _Submitting the week 8 programming assignment_ or _Everything is up to date_, then your work was submitted correctly."
   ]
  },
  {
   "cell_type": "code",
   "execution_count": null,
   "metadata": {},
   "outputs": [],
   "source": []
  }
 ],
 "metadata": {
  "kernelspec": {
   "display_name": "Python 3",
   "language": "python",
   "name": "python3"
  },
  "language_info": {
   "codemirror_mode": {
    "name": "ipython",
    "version": 3
   },
   "file_extension": ".py",
   "mimetype": "text/x-python",
   "name": "python",
   "nbconvert_exporter": "python",
   "pygments_lexer": "ipython3",
   "version": "3.6.7"
  }
 },
 "nbformat": 4,
 "nbformat_minor": 4
}
