{
 "cells": [
  {
   "cell_type": "code",
   "execution_count": 1,
   "metadata": {},
   "outputs": [
    {
     "name": "stdout",
     "output_type": "stream",
     "text": [
      "Traceback (most recent call last):\n",
      "  File \"/opt/tljh/user/bin/kaggle\", line 5, in <module>\n",
      "    from kaggle.cli import main\n",
      "  File \"/opt/tljh/user/lib/python3.6/site-packages/kaggle/__init__.py\", line 23, in <module>\n",
      "    api.authenticate()\n",
      "  File \"/opt/tljh/user/lib/python3.6/site-packages/kaggle/api/kaggle_api_extended.py\", line 166, in authenticate\n",
      "    self.config_file, self.config_dir))\n",
      "OSError: Could not find kaggle.json. Make sure it's located in /home/jupyter-ajithkumar-07/.kaggle. Or use the environment method.\n",
      "unzip:  cannot find or open ckdisease.zip, ckdisease.zip.zip or ckdisease.zip.ZIP.\n",
      "--2021-05-14 06:15:55--  https://archive.ics.uci.edu/ml/machine-learning-databases/00336/Chronic_Kidney_Disease.rar\n",
      "Resolving archive.ics.uci.edu (archive.ics.uci.edu)... 128.195.10.252\n",
      "Connecting to archive.ics.uci.edu (archive.ics.uci.edu)|128.195.10.252|:443... connected.\n",
      "HTTP request sent, awaiting response... 200 OK\n",
      "Length: 19260 (19K) [application/x-httpd-php]\n",
      "Saving to: ‘Chronic_Kidney_Disease.rar.1’\n",
      "\n",
      "Chronic_Kidney_Dise 100%[===================>]  18.81K  --.-KB/s    in 0.07s   \n",
      "\n",
      "2021-05-14 06:15:56 (262 KB/s) - ‘Chronic_Kidney_Disease.rar.1’ saved [19260/19260]\n",
      "\n",
      "/bin/sh: 1: unrar: not found\n"
     ]
    }
   ],
   "source": [
    "import pandas as pd\n",
    "#import arff\n",
    "import os\n",
    "import warnings\n",
    "warnings.filterwarnings('ignore')\n",
    "\n",
    "\n",
    "# Installing Kaggle CLI\n",
    "#!pip install kaggle\n",
    "# Placing the configuration to access the kaggle API\n",
    "#!cp kaggle.json /root/.kaggle\n",
    "\n",
    "# Downloading the dataset from kaggle\n",
    "!kaggle datasets download -d mansoordaku/ckdisease!\n",
    "!unzip -o ckdisease.zip\n",
    "# The above dataset contains the file in csv format.\n",
    "\n",
    "\n",
    "\n",
    "# Download dataset from UCI repository\n",
    "! wget https://archive.ics.uci.edu/ml/machine-learning-databases/00336/Chronic_Kidney_Disease.rar\n",
    "! unrar x -y ./Chronic_Kidney_Disease.rar\n",
    "# The above resource contains the file in ARFF format. But we will use the json, csv, and excel format.\n",
    "\n",
    "\n",
    "dataframe1 = pd.read_csv(\"kidney_disease.csv\")\n",
    "\n",
    "\n",
    "# Loading data from local machine in xlsx and json format\n",
    "dataframe2 = pd.read_excel(\"kidney_disease.xlsx\")\n",
    "dataframe3 = pd.read_json(\"kidney_disease.json\")\n",
    "\n",
    "\n",
    "merge = pd.merge(dataframe1[[\"id\", \"age\", \"bp\", \"sg\", \"al\", \"su\", \"rbc\", \"pc\"]], # taking initial 7 columns from dataframe1\n",
    "                 dataframe2[[\"id\", \"pcc\", \"ba\", \"bgr\", \"bu\",\"sc\",\"sod\",\"pot\", \"hemo\", \"pcv\", \"wc\", \"rc\"]], # Another 11 columns from data 2\n",
    "                 on = \"id\"\n",
    "                 )\n",
    "\n",
    "final_data = pd.merge(merge, # taking first merge\n",
    "                      dataframe3[[\"id\", \"htn\", \"dm\", \"cad\", \"appet\", \"pe\", \"ane\", \"classification\"]],\n",
    "                      on = \"id\"\n",
    "                      )"
   ]
  },
  {
   "cell_type": "code",
   "execution_count": 2,
   "metadata": {},
   "outputs": [
    {
     "data": {
      "text/html": [
       "<div>\n",
       "<style scoped>\n",
       "    .dataframe tbody tr th:only-of-type {\n",
       "        vertical-align: middle;\n",
       "    }\n",
       "\n",
       "    .dataframe tbody tr th {\n",
       "        vertical-align: top;\n",
       "    }\n",
       "\n",
       "    .dataframe thead th {\n",
       "        text-align: right;\n",
       "    }\n",
       "</style>\n",
       "<table border=\"1\" class=\"dataframe\">\n",
       "  <thead>\n",
       "    <tr style=\"text-align: right;\">\n",
       "      <th></th>\n",
       "      <th>id</th>\n",
       "      <th>age</th>\n",
       "      <th>bp</th>\n",
       "      <th>sg</th>\n",
       "      <th>al</th>\n",
       "      <th>su</th>\n",
       "      <th>rbc</th>\n",
       "      <th>pc</th>\n",
       "      <th>pcc</th>\n",
       "      <th>ba</th>\n",
       "      <th>...</th>\n",
       "      <th>pcv</th>\n",
       "      <th>wc</th>\n",
       "      <th>rc</th>\n",
       "      <th>htn</th>\n",
       "      <th>dm</th>\n",
       "      <th>cad</th>\n",
       "      <th>appet</th>\n",
       "      <th>pe</th>\n",
       "      <th>ane</th>\n",
       "      <th>classification</th>\n",
       "    </tr>\n",
       "  </thead>\n",
       "  <tbody>\n",
       "    <tr>\n",
       "      <th>0</th>\n",
       "      <td>0</td>\n",
       "      <td>48.0</td>\n",
       "      <td>80.0</td>\n",
       "      <td>1.020</td>\n",
       "      <td>1.0</td>\n",
       "      <td>0.0</td>\n",
       "      <td>NaN</td>\n",
       "      <td>normal</td>\n",
       "      <td>notpresent</td>\n",
       "      <td>notpresent</td>\n",
       "      <td>...</td>\n",
       "      <td>44.0</td>\n",
       "      <td>7800</td>\n",
       "      <td>5.2</td>\n",
       "      <td>yes</td>\n",
       "      <td>yes</td>\n",
       "      <td>no</td>\n",
       "      <td>good</td>\n",
       "      <td>no</td>\n",
       "      <td>no</td>\n",
       "      <td>ckd</td>\n",
       "    </tr>\n",
       "    <tr>\n",
       "      <th>1</th>\n",
       "      <td>1</td>\n",
       "      <td>7.0</td>\n",
       "      <td>50.0</td>\n",
       "      <td>1.020</td>\n",
       "      <td>4.0</td>\n",
       "      <td>0.0</td>\n",
       "      <td>NaN</td>\n",
       "      <td>normal</td>\n",
       "      <td>notpresent</td>\n",
       "      <td>notpresent</td>\n",
       "      <td>...</td>\n",
       "      <td>38.0</td>\n",
       "      <td>6000</td>\n",
       "      <td>NaN</td>\n",
       "      <td>no</td>\n",
       "      <td>no</td>\n",
       "      <td>no</td>\n",
       "      <td>good</td>\n",
       "      <td>no</td>\n",
       "      <td>no</td>\n",
       "      <td>ckd</td>\n",
       "    </tr>\n",
       "    <tr>\n",
       "      <th>2</th>\n",
       "      <td>2</td>\n",
       "      <td>62.0</td>\n",
       "      <td>80.0</td>\n",
       "      <td>1.010</td>\n",
       "      <td>2.0</td>\n",
       "      <td>3.0</td>\n",
       "      <td>normal</td>\n",
       "      <td>normal</td>\n",
       "      <td>notpresent</td>\n",
       "      <td>notpresent</td>\n",
       "      <td>...</td>\n",
       "      <td>31.0</td>\n",
       "      <td>7500</td>\n",
       "      <td>NaN</td>\n",
       "      <td>no</td>\n",
       "      <td>yes</td>\n",
       "      <td>no</td>\n",
       "      <td>poor</td>\n",
       "      <td>no</td>\n",
       "      <td>yes</td>\n",
       "      <td>ckd</td>\n",
       "    </tr>\n",
       "    <tr>\n",
       "      <th>3</th>\n",
       "      <td>3</td>\n",
       "      <td>48.0</td>\n",
       "      <td>70.0</td>\n",
       "      <td>1.005</td>\n",
       "      <td>4.0</td>\n",
       "      <td>0.0</td>\n",
       "      <td>normal</td>\n",
       "      <td>abnormal</td>\n",
       "      <td>present</td>\n",
       "      <td>notpresent</td>\n",
       "      <td>...</td>\n",
       "      <td>32.0</td>\n",
       "      <td>6700</td>\n",
       "      <td>3.9</td>\n",
       "      <td>yes</td>\n",
       "      <td>no</td>\n",
       "      <td>no</td>\n",
       "      <td>poor</td>\n",
       "      <td>yes</td>\n",
       "      <td>yes</td>\n",
       "      <td>ckd</td>\n",
       "    </tr>\n",
       "    <tr>\n",
       "      <th>4</th>\n",
       "      <td>4</td>\n",
       "      <td>51.0</td>\n",
       "      <td>80.0</td>\n",
       "      <td>1.010</td>\n",
       "      <td>2.0</td>\n",
       "      <td>0.0</td>\n",
       "      <td>normal</td>\n",
       "      <td>normal</td>\n",
       "      <td>notpresent</td>\n",
       "      <td>notpresent</td>\n",
       "      <td>...</td>\n",
       "      <td>35.0</td>\n",
       "      <td>7300</td>\n",
       "      <td>4.6</td>\n",
       "      <td>no</td>\n",
       "      <td>no</td>\n",
       "      <td>no</td>\n",
       "      <td>good</td>\n",
       "      <td>no</td>\n",
       "      <td>no</td>\n",
       "      <td>ckd</td>\n",
       "    </tr>\n",
       "  </tbody>\n",
       "</table>\n",
       "<p>5 rows × 26 columns</p>\n",
       "</div>"
      ],
      "text/plain": [
       "   id   age    bp     sg   al   su     rbc        pc         pcc          ba  \\\n",
       "0   0  48.0  80.0  1.020  1.0  0.0     NaN    normal  notpresent  notpresent   \n",
       "1   1   7.0  50.0  1.020  4.0  0.0     NaN    normal  notpresent  notpresent   \n",
       "2   2  62.0  80.0  1.010  2.0  3.0  normal    normal  notpresent  notpresent   \n",
       "3   3  48.0  70.0  1.005  4.0  0.0  normal  abnormal     present  notpresent   \n",
       "4   4  51.0  80.0  1.010  2.0  0.0  normal    normal  notpresent  notpresent   \n",
       "\n",
       "   ...   pcv    wc   rc  htn   dm  cad  appet   pe  ane classification  \n",
       "0  ...  44.0  7800  5.2  yes  yes   no   good   no   no            ckd  \n",
       "1  ...  38.0  6000  NaN   no   no   no   good   no   no            ckd  \n",
       "2  ...  31.0  7500  NaN   no  yes   no   poor   no  yes            ckd  \n",
       "3  ...  32.0  6700  3.9  yes   no   no   poor  yes  yes            ckd  \n",
       "4  ...  35.0  7300  4.6   no   no   no   good   no   no            ckd  \n",
       "\n",
       "[5 rows x 26 columns]"
      ]
     },
     "execution_count": 2,
     "metadata": {},
     "output_type": "execute_result"
    }
   ],
   "source": [
    "final_data.head()"
   ]
  },
  {
   "cell_type": "code",
   "execution_count": 3,
   "metadata": {},
   "outputs": [
    {
     "name": "stdout",
     "output_type": "stream",
     "text": [
      "\n",
      "\n",
      "Number of rows: 400\n",
      "Number of Columns: 26\n"
     ]
    }
   ],
   "source": [
    "# Getting number of rows and columns\n",
    "print(\"\\n\\nNumber of rows: {}\".format(final_data.shape[0]))\n",
    "print(\"Number of Columns: {}\".format(final_data.shape[1]))"
   ]
  },
  {
   "cell_type": "markdown",
   "metadata": {},
   "source": [
    "********************************************************************************************************************************************\n",
    "# Dealing with NAN Values\n",
    "Let is check for Null values in the Data."
   ]
  },
  {
   "cell_type": "code",
   "execution_count": 4,
   "metadata": {},
   "outputs": [
    {
     "data": {
      "text/plain": [
       "id                  0\n",
       "age                 9\n",
       "bp                 12\n",
       "sg                 47\n",
       "al                 46\n",
       "su                 49\n",
       "rbc               152\n",
       "pc                 65\n",
       "pcc                 4\n",
       "ba                  4\n",
       "bgr                44\n",
       "bu                 19\n",
       "sc                 17\n",
       "sod                87\n",
       "pot                88\n",
       "hemo               52\n",
       "pcv                72\n",
       "wc                107\n",
       "rc                130\n",
       "htn                 2\n",
       "dm                  2\n",
       "cad                 2\n",
       "appet               1\n",
       "pe                  1\n",
       "ane                 1\n",
       "classification      0\n",
       "dtype: int64"
      ]
     },
     "execution_count": 4,
     "metadata": {},
     "output_type": "execute_result"
    }
   ],
   "source": [
    "# Check for any Null or Nan Values\n",
    "final_data.isnull().sum()"
   ]
  },
  {
   "cell_type": "markdown",
   "metadata": {},
   "source": [
    "There are quite a lot of NULL values in few columns, dropping all rows containing Null values may lead us to significant amount of information loss. Let us see how many samples will be left when we drop all rows containing Null values."
   ]
  },
  {
   "cell_type": "code",
   "execution_count": 5,
   "metadata": {},
   "outputs": [
    {
     "name": "stdout",
     "output_type": "stream",
     "text": [
      "<class 'pandas.core.frame.DataFrame'>\n",
      "Int64Index: 156 entries, 3 to 399\n",
      "Data columns (total 26 columns):\n",
      " #   Column          Non-Null Count  Dtype  \n",
      "---  ------          --------------  -----  \n",
      " 0   id              156 non-null    int64  \n",
      " 1   age             156 non-null    float64\n",
      " 2   bp              156 non-null    float64\n",
      " 3   sg              156 non-null    float64\n",
      " 4   al              156 non-null    float64\n",
      " 5   su              156 non-null    float64\n",
      " 6   rbc             156 non-null    object \n",
      " 7   pc              156 non-null    object \n",
      " 8   pcc             156 non-null    object \n",
      " 9   ba              156 non-null    object \n",
      " 10  bgr             156 non-null    float64\n",
      " 11  bu              156 non-null    float64\n",
      " 12  sc              156 non-null    float64\n",
      " 13  sod             156 non-null    float64\n",
      " 14  pot             156 non-null    float64\n",
      " 15  hemo            156 non-null    float64\n",
      " 16  pcv             156 non-null    float64\n",
      " 17  wc              156 non-null    object \n",
      " 18  rc              156 non-null    object \n",
      " 19  htn             156 non-null    object \n",
      " 20  dm              156 non-null    object \n",
      " 21  cad             156 non-null    object \n",
      " 22  appet           156 non-null    object \n",
      " 23  pe              156 non-null    object \n",
      " 24  ane             156 non-null    object \n",
      " 25  classification  156 non-null    object \n",
      "dtypes: float64(12), int64(1), object(13)\n",
      "memory usage: 32.9+ KB\n"
     ]
    }
   ],
   "source": [
    "temp_data = final_data.dropna(how = \"any\")\n",
    "temp_data.info()"
   ]
  },
  {
   "cell_type": "markdown",
   "metadata": {},
   "source": [
    "There are only 156 rows left when we drop all rows containing NaN values. That results in quite a high amount of information loss, only one third of the data is left. We will try to drop the columns which contains most Null and will do analysis on remaining columns, that will allow us to perform better analysis on remaining variables."
   ]
  },
  {
   "cell_type": "code",
   "execution_count": 6,
   "metadata": {},
   "outputs": [
    {
     "name": "stdout",
     "output_type": "stream",
     "text": [
      "<class 'pandas.core.frame.DataFrame'>\n",
      "Int64Index: 289 entries, 0 to 399\n",
      "Data columns (total 18 columns):\n",
      " #   Column          Non-Null Count  Dtype  \n",
      "---  ------          --------------  -----  \n",
      " 0   id              289 non-null    int64  \n",
      " 1   age             289 non-null    float64\n",
      " 2   bp              289 non-null    float64\n",
      " 3   sg              289 non-null    float64\n",
      " 4   al              289 non-null    float64\n",
      " 5   su              289 non-null    float64\n",
      " 6   pcc             289 non-null    object \n",
      " 7   ba              289 non-null    object \n",
      " 8   bgr             289 non-null    float64\n",
      " 9   bu              289 non-null    float64\n",
      " 10  sc              289 non-null    float64\n",
      " 11  htn             289 non-null    object \n",
      " 12  dm              289 non-null    object \n",
      " 13  cad             289 non-null    object \n",
      " 14  appet           289 non-null    object \n",
      " 15  pe              289 non-null    object \n",
      " 16  ane             289 non-null    object \n",
      " 17  classification  289 non-null    object \n",
      "dtypes: float64(8), int64(1), object(9)\n",
      "memory usage: 42.9+ KB\n"
     ]
    }
   ],
   "source": [
    "data = final_data.drop([\"rbc\", \"sod\", \"pot\", \"wc\", \"rc\", \"pcv\", \"hemo\", \"pc\"], axis = 1)\n",
    "data = data.dropna(how = \"any\")\n",
    "data.info()"
   ]
  },
  {
   "cell_type": "markdown",
   "metadata": {},
   "source": [
    "Now we have 289 data points, we can do analysis on remaining variables."
   ]
  },
  {
   "cell_type": "code",
   "execution_count": 7,
   "metadata": {},
   "outputs": [
    {
     "data": {
      "text/plain": [
       "id                0\n",
       "age               0\n",
       "bp                0\n",
       "sg                0\n",
       "al                0\n",
       "su                0\n",
       "pcc               0\n",
       "ba                0\n",
       "bgr               0\n",
       "bu                0\n",
       "sc                0\n",
       "htn               0\n",
       "dm                0\n",
       "cad               0\n",
       "appet             0\n",
       "pe                0\n",
       "ane               0\n",
       "classification    0\n",
       "dtype: int64"
      ]
     },
     "execution_count": 7,
     "metadata": {},
     "output_type": "execute_result"
    }
   ],
   "source": [
    "data.isnull().sum()"
   ]
  },
  {
   "cell_type": "markdown",
   "metadata": {},
   "source": [
    "As the data is cleaned, we can move forward with the analysis.\n",
    "\n",
    "********************************************************************************************************************************************\n",
    "### Data Transformation\n",
    "Transforming the data for better representation."
   ]
  },
  {
   "cell_type": "code",
   "execution_count": 8,
   "metadata": {},
   "outputs": [
    {
     "data": {
      "text/html": [
       "<div>\n",
       "<style scoped>\n",
       "    .dataframe tbody tr th:only-of-type {\n",
       "        vertical-align: middle;\n",
       "    }\n",
       "\n",
       "    .dataframe tbody tr th {\n",
       "        vertical-align: top;\n",
       "    }\n",
       "\n",
       "    .dataframe thead th {\n",
       "        text-align: right;\n",
       "    }\n",
       "</style>\n",
       "<table border=\"1\" class=\"dataframe\">\n",
       "  <thead>\n",
       "    <tr style=\"text-align: right;\">\n",
       "      <th></th>\n",
       "      <th>id</th>\n",
       "      <th>age</th>\n",
       "      <th>bp</th>\n",
       "      <th>sg</th>\n",
       "      <th>al</th>\n",
       "      <th>su</th>\n",
       "      <th>pcc</th>\n",
       "      <th>ba</th>\n",
       "      <th>bgr</th>\n",
       "      <th>bu</th>\n",
       "      <th>sc</th>\n",
       "      <th>htn</th>\n",
       "      <th>dm</th>\n",
       "      <th>cad</th>\n",
       "      <th>appet</th>\n",
       "      <th>pe</th>\n",
       "      <th>ane</th>\n",
       "      <th>classification</th>\n",
       "    </tr>\n",
       "  </thead>\n",
       "  <tbody>\n",
       "    <tr>\n",
       "      <th>0</th>\n",
       "      <td>0</td>\n",
       "      <td>48.0</td>\n",
       "      <td>80.0</td>\n",
       "      <td>1.020</td>\n",
       "      <td>1.0</td>\n",
       "      <td>0.0</td>\n",
       "      <td>0</td>\n",
       "      <td>0</td>\n",
       "      <td>121.0</td>\n",
       "      <td>36.0</td>\n",
       "      <td>1.2</td>\n",
       "      <td>1</td>\n",
       "      <td>1</td>\n",
       "      <td>0</td>\n",
       "      <td>1</td>\n",
       "      <td>0</td>\n",
       "      <td>0</td>\n",
       "      <td>positive</td>\n",
       "    </tr>\n",
       "    <tr>\n",
       "      <th>2</th>\n",
       "      <td>2</td>\n",
       "      <td>62.0</td>\n",
       "      <td>80.0</td>\n",
       "      <td>1.010</td>\n",
       "      <td>2.0</td>\n",
       "      <td>3.0</td>\n",
       "      <td>0</td>\n",
       "      <td>0</td>\n",
       "      <td>423.0</td>\n",
       "      <td>53.0</td>\n",
       "      <td>1.8</td>\n",
       "      <td>0</td>\n",
       "      <td>1</td>\n",
       "      <td>0</td>\n",
       "      <td>0</td>\n",
       "      <td>0</td>\n",
       "      <td>1</td>\n",
       "      <td>positive</td>\n",
       "    </tr>\n",
       "    <tr>\n",
       "      <th>3</th>\n",
       "      <td>3</td>\n",
       "      <td>48.0</td>\n",
       "      <td>70.0</td>\n",
       "      <td>1.005</td>\n",
       "      <td>4.0</td>\n",
       "      <td>0.0</td>\n",
       "      <td>1</td>\n",
       "      <td>0</td>\n",
       "      <td>117.0</td>\n",
       "      <td>56.0</td>\n",
       "      <td>3.8</td>\n",
       "      <td>1</td>\n",
       "      <td>0</td>\n",
       "      <td>0</td>\n",
       "      <td>0</td>\n",
       "      <td>1</td>\n",
       "      <td>1</td>\n",
       "      <td>positive</td>\n",
       "    </tr>\n",
       "    <tr>\n",
       "      <th>4</th>\n",
       "      <td>4</td>\n",
       "      <td>51.0</td>\n",
       "      <td>80.0</td>\n",
       "      <td>1.010</td>\n",
       "      <td>2.0</td>\n",
       "      <td>0.0</td>\n",
       "      <td>0</td>\n",
       "      <td>0</td>\n",
       "      <td>106.0</td>\n",
       "      <td>26.0</td>\n",
       "      <td>1.4</td>\n",
       "      <td>0</td>\n",
       "      <td>0</td>\n",
       "      <td>0</td>\n",
       "      <td>1</td>\n",
       "      <td>0</td>\n",
       "      <td>0</td>\n",
       "      <td>positive</td>\n",
       "    </tr>\n",
       "    <tr>\n",
       "      <th>5</th>\n",
       "      <td>5</td>\n",
       "      <td>60.0</td>\n",
       "      <td>90.0</td>\n",
       "      <td>1.015</td>\n",
       "      <td>3.0</td>\n",
       "      <td>0.0</td>\n",
       "      <td>0</td>\n",
       "      <td>0</td>\n",
       "      <td>74.0</td>\n",
       "      <td>25.0</td>\n",
       "      <td>1.1</td>\n",
       "      <td>1</td>\n",
       "      <td>1</td>\n",
       "      <td>0</td>\n",
       "      <td>1</td>\n",
       "      <td>1</td>\n",
       "      <td>0</td>\n",
       "      <td>positive</td>\n",
       "    </tr>\n",
       "  </tbody>\n",
       "</table>\n",
       "</div>"
      ],
      "text/plain": [
       "   id   age    bp     sg   al   su pcc ba    bgr    bu   sc htn dm cad appet  \\\n",
       "0   0  48.0  80.0  1.020  1.0  0.0   0  0  121.0  36.0  1.2   1  1   0     1   \n",
       "2   2  62.0  80.0  1.010  2.0  3.0   0  0  423.0  53.0  1.8   0  1   0     0   \n",
       "3   3  48.0  70.0  1.005  4.0  0.0   1  0  117.0  56.0  3.8   1  0   0     0   \n",
       "4   4  51.0  80.0  1.010  2.0  0.0   0  0  106.0  26.0  1.4   0  0   0     1   \n",
       "5   5  60.0  90.0  1.015  3.0  0.0   0  0   74.0  25.0  1.1   1  1   0     1   \n",
       "\n",
       "  pe ane classification  \n",
       "0  0   0       positive  \n",
       "2  0   1       positive  \n",
       "3  1   1       positive  \n",
       "4  0   0       positive  \n",
       "5  1   0       positive  "
      ]
     },
     "execution_count": 8,
     "metadata": {},
     "output_type": "execute_result"
    }
   ],
   "source": [
    "data['pcc'] = data.pcc.replace(['present','notpresent'], ['1', '0'])\n",
    "data['ba'] = data.ba.replace(['present','notpresent'], ['1', '0'])\n",
    "data['htn'] = data.htn.replace(['yes','no'], ['1', '0'])\n",
    "data['dm'] = data.dm.replace(['yes','no'], ['1', '0'])\n",
    "data['cad'] = data.cad.replace(['yes','no'], ['1', '0'])\n",
    "data['appet'] = data.appet.replace(['good','poor'], ['1', '0'])\n",
    "data['pe'] = data.pe.replace(['yes','no'], ['1', '0'])\n",
    "data['ane'] = data.ane.replace(['yes','no'], ['1', '0'])\n",
    "data['classification'] = data.classification.replace(['ckd','ckd\\t','notckd'], ['positive', 'positive','negative'])\n",
    "data.head()"
   ]
  },
  {
   "cell_type": "markdown",
   "metadata": {},
   "source": [
    "********************************************************************************************************************************************\n",
    "\n",
    "## Classwise Analysis of Variables\n",
    "Let us see the description of varibles for all data corresponding to positive class and negative class."
   ]
  },
  {
   "cell_type": "code",
   "execution_count": 9,
   "metadata": {},
   "outputs": [
    {
     "data": {
      "text/html": [
       "<div>\n",
       "<style scoped>\n",
       "    .dataframe tbody tr th:only-of-type {\n",
       "        vertical-align: middle;\n",
       "    }\n",
       "\n",
       "    .dataframe tbody tr th {\n",
       "        vertical-align: top;\n",
       "    }\n",
       "\n",
       "    .dataframe thead th {\n",
       "        text-align: right;\n",
       "    }\n",
       "</style>\n",
       "<table border=\"1\" class=\"dataframe\">\n",
       "  <thead>\n",
       "    <tr style=\"text-align: right;\">\n",
       "      <th></th>\n",
       "      <th>id</th>\n",
       "      <th>age</th>\n",
       "      <th>bp</th>\n",
       "      <th>sg</th>\n",
       "      <th>al</th>\n",
       "      <th>su</th>\n",
       "      <th>bgr</th>\n",
       "      <th>bu</th>\n",
       "      <th>sc</th>\n",
       "    </tr>\n",
       "  </thead>\n",
       "  <tbody>\n",
       "    <tr>\n",
       "      <th>count</th>\n",
       "      <td>159.000000</td>\n",
       "      <td>159.000000</td>\n",
       "      <td>159.000000</td>\n",
       "      <td>159.000000</td>\n",
       "      <td>159.000000</td>\n",
       "      <td>159.000000</td>\n",
       "      <td>159.000000</td>\n",
       "      <td>159.000000</td>\n",
       "      <td>159.000000</td>\n",
       "    </tr>\n",
       "    <tr>\n",
       "      <th>mean</th>\n",
       "      <td>124.150943</td>\n",
       "      <td>57.144654</td>\n",
       "      <td>79.685535</td>\n",
       "      <td>1.013994</td>\n",
       "      <td>1.748428</td>\n",
       "      <td>0.811321</td>\n",
       "      <td>178.572327</td>\n",
       "      <td>72.044654</td>\n",
       "      <td>3.943396</td>\n",
       "    </tr>\n",
       "    <tr>\n",
       "      <th>std</th>\n",
       "      <td>74.962200</td>\n",
       "      <td>14.109354</td>\n",
       "      <td>13.426847</td>\n",
       "      <td>0.004699</td>\n",
       "      <td>1.349958</td>\n",
       "      <td>1.374127</td>\n",
       "      <td>91.890996</td>\n",
       "      <td>58.180453</td>\n",
       "      <td>4.499853</td>\n",
       "    </tr>\n",
       "    <tr>\n",
       "      <th>min</th>\n",
       "      <td>0.000000</td>\n",
       "      <td>6.000000</td>\n",
       "      <td>50.000000</td>\n",
       "      <td>1.005000</td>\n",
       "      <td>0.000000</td>\n",
       "      <td>0.000000</td>\n",
       "      <td>22.000000</td>\n",
       "      <td>1.500000</td>\n",
       "      <td>0.600000</td>\n",
       "    </tr>\n",
       "    <tr>\n",
       "      <th>25%</th>\n",
       "      <td>60.500000</td>\n",
       "      <td>50.000000</td>\n",
       "      <td>70.000000</td>\n",
       "      <td>1.010000</td>\n",
       "      <td>1.000000</td>\n",
       "      <td>0.000000</td>\n",
       "      <td>108.500000</td>\n",
       "      <td>32.000000</td>\n",
       "      <td>1.500000</td>\n",
       "    </tr>\n",
       "    <tr>\n",
       "      <th>50%</th>\n",
       "      <td>126.000000</td>\n",
       "      <td>60.000000</td>\n",
       "      <td>80.000000</td>\n",
       "      <td>1.015000</td>\n",
       "      <td>2.000000</td>\n",
       "      <td>0.000000</td>\n",
       "      <td>150.000000</td>\n",
       "      <td>54.000000</td>\n",
       "      <td>2.200000</td>\n",
       "    </tr>\n",
       "    <tr>\n",
       "      <th>75%</th>\n",
       "      <td>186.500000</td>\n",
       "      <td>66.000000</td>\n",
       "      <td>90.000000</td>\n",
       "      <td>1.015000</td>\n",
       "      <td>3.000000</td>\n",
       "      <td>1.000000</td>\n",
       "      <td>232.000000</td>\n",
       "      <td>91.000000</td>\n",
       "      <td>4.000000</td>\n",
       "    </tr>\n",
       "    <tr>\n",
       "      <th>max</th>\n",
       "      <td>249.000000</td>\n",
       "      <td>90.000000</td>\n",
       "      <td>120.000000</td>\n",
       "      <td>1.025000</td>\n",
       "      <td>4.000000</td>\n",
       "      <td>5.000000</td>\n",
       "      <td>490.000000</td>\n",
       "      <td>391.000000</td>\n",
       "      <td>32.000000</td>\n",
       "    </tr>\n",
       "  </tbody>\n",
       "</table>\n",
       "</div>"
      ],
      "text/plain": [
       "               id         age          bp          sg          al          su  \\\n",
       "count  159.000000  159.000000  159.000000  159.000000  159.000000  159.000000   \n",
       "mean   124.150943   57.144654   79.685535    1.013994    1.748428    0.811321   \n",
       "std     74.962200   14.109354   13.426847    0.004699    1.349958    1.374127   \n",
       "min      0.000000    6.000000   50.000000    1.005000    0.000000    0.000000   \n",
       "25%     60.500000   50.000000   70.000000    1.010000    1.000000    0.000000   \n",
       "50%    126.000000   60.000000   80.000000    1.015000    2.000000    0.000000   \n",
       "75%    186.500000   66.000000   90.000000    1.015000    3.000000    1.000000   \n",
       "max    249.000000   90.000000  120.000000    1.025000    4.000000    5.000000   \n",
       "\n",
       "              bgr          bu          sc  \n",
       "count  159.000000  159.000000  159.000000  \n",
       "mean   178.572327   72.044654    3.943396  \n",
       "std     91.890996   58.180453    4.499853  \n",
       "min     22.000000    1.500000    0.600000  \n",
       "25%    108.500000   32.000000    1.500000  \n",
       "50%    150.000000   54.000000    2.200000  \n",
       "75%    232.000000   91.000000    4.000000  \n",
       "max    490.000000  391.000000   32.000000  "
      ]
     },
     "execution_count": 9,
     "metadata": {},
     "output_type": "execute_result"
    }
   ],
   "source": [
    "# Selecting the positive class samples from data\n",
    "data[data['classification'] == 'positive'].describe()"
   ]
  },
  {
   "cell_type": "code",
   "execution_count": null,
   "metadata": {},
   "outputs": [],
   "source": [
    "# Selecting the negative class samples from data\n",
    "data[data['classification'] == 'negative'].describe()"
   ]
  },
  {
   "cell_type": "code",
   "execution_count": null,
   "metadata": {},
   "outputs": [],
   "source": [
    "# Let is count the frquency of positive and negative class samples in the data\n",
    "data[\"classification\"].describe()"
   ]
  },
  {
   "cell_type": "code",
   "execution_count": null,
   "metadata": {},
   "outputs": [],
   "source": [
    "import seaborn as sns\n",
    "g = sns.pairplot(data, vars =['age', 'bp','bgr', 'bu', 'sc'],hue = 'classification')\n",
    "g.map_diag(sns.distplot)\n",
    "g.add_legend()\n",
    "g.fig.suptitle('FacetGrid plot', fontsize = 20)\n",
    "g.fig.subplots_adjust(top= 0.9);"
   ]
  },
  {
   "cell_type": "markdown",
   "metadata": {},
   "source": [
    "As we look at the graph above, we can see that most of the variables show a separate clusters or curves for values with positive and negative classification. These varibles surely show different properties at for different classes of prediction varibles. Let us look at the correlation matrix.\n",
    "\n",
    "********************************************************************************************************************************************\n",
    "\n",
    "## Correlation\n",
    "\n",
    "Let is have a look at the correlation matrix to check the correlation between variables. "
   ]
  },
  {
   "cell_type": "code",
   "execution_count": null,
   "metadata": {},
   "outputs": [],
   "source": [
    "# Getting the correlation matrix\n",
    "corr = data.corr()\n",
    "corr.style.background_gradient(cmap='RdBu_r')"
   ]
  },
  {
   "cell_type": "code",
   "execution_count": null,
   "metadata": {},
   "outputs": [],
   "source": [
    "import matplotlib.pyplot as plt\n",
    "# Let us look at the behaviour of Age with classification\n",
    "plt.figure(figsize=(70,30))\n",
    "g = sns.countplot(data = data, x = 'age', hue = 'classification')\n",
    "g.legend(title = 'Chronic kidney disease', loc=1)\n",
    "g.tick_params(labelsize=20)\n",
    "plt.setp(g.get_legend().get_texts(), fontsize='32')\n",
    "plt.setp(g.get_legend().get_title(), fontsize='42')\n",
    "g.axes.set_title('Age vs chronic kidney disease count',fontsize=50)\n",
    "g.set_xlabel('Count',fontsize=40)\n",
    "g.set_ylabel(\"Age\",fontsize=40)"
   ]
  },
  {
   "cell_type": "markdown",
   "metadata": {},
   "source": [
    "As we can clearly observe, the number of people with CKD are more in higher age group. We can roughly conclude that there are more elder people in positive group.\n",
    "********************************************************************************************************************************************\n",
    "\n",
    "### Correlation between Age and Chronic Kidney Disease\n",
    "\n",
    "Let us look at frequency of people in positive and negative group and correlation between age and number of people positive/negative of that age. First we look at positive age group."
   ]
  },
  {
   "cell_type": "code",
   "execution_count": null,
   "metadata": {},
   "outputs": [],
   "source": [
    "age_data = data[[\"age\", \"classification\"]]\n",
    "age_data_pos = age_data[age_data['classification'] == \"positive\"].groupby(['age']).size().reset_index(name = 'count')\n",
    "age_data_pos.corr()"
   ]
  },
  {
   "cell_type": "markdown",
   "metadata": {},
   "source": [
    "As we can there is a positive correlation between age and number of CKD positive people of that age. Let us plot and a linear regression fit curve to see this pattern."
   ]
  },
  {
   "cell_type": "code",
   "execution_count": null,
   "metadata": {},
   "outputs": [],
   "source": [
    "sns.regplot(data = age_data_pos, x = 'age', y = 'count').set_title(\"Correlation graph for Age vs CKD positive patient\")"
   ]
  },
  {
   "cell_type": "markdown",
   "metadata": {},
   "source": [
    "As we can see clearly that as age increases the number of cases of patients with CKD is increasing. \n",
    "\n",
    "### EFFECTS OF AGING ON THE KIDNEYS :\n",
    "\n",
    "Changes in the kidneys that occur with age: As people age, there is a slow, steady decline in the weight of the kidneys, amount of kidney tissue decreases and kidney function diminishes. Number of filtering units (nephrons) decreases. Nephrons filter waste material from the blood.\n",
    "\n",
    "After about age 30 to 40, about two thirds of people (even those who do not have kidney disease) undergo a gradual decline in the rate at which their kidneys filter blood."
   ]
  },
  {
   "cell_type": "code",
   "execution_count": null,
   "metadata": {},
   "outputs": [],
   "source": [
    "age_data = data[[\"age\", \"classification\"]]\n",
    "age_data_neg = age_data[age_data['classification'] == \"negative\"].groupby(['age']).size().reset_index(name = 'count')\n",
    "age_data_neg.corr()"
   ]
  },
  {
   "cell_type": "markdown",
   "metadata": {},
   "source": [
    "As we can see, there is a negative correlation. The number of healthy people with increasing tend to decrease.\n",
    "\n",
    "Let us look linear regression fit."
   ]
  },
  {
   "cell_type": "code",
   "execution_count": null,
   "metadata": {},
   "outputs": [],
   "source": [
    "sns.regplot(data = age_data_neg, x = 'age', y = 'count').set_title(\"Correlation graph for Age vs CKD negative patient\")"
   ]
  },
  {
   "cell_type": "markdown",
   "metadata": {},
   "source": [
    "We can see clearly a descreasing graph."
   ]
  },
  {
   "cell_type": "markdown",
   "metadata": {},
   "source": [
    "********************************************************************************************************************************************\n",
    "### Correlation between Blood Pressure and Chronic Kidney Disease\n",
    "\n",
    "As previous, we will look at correlation between Blood pressure and CKD.\n",
    "\n",
    "### BP with CKD\n",
    "Hypertension is one of the leading causes of CKD due to the deleterious effects that increased BP has on kidney vasculature. Long-term, uncontrolled, high BP leads to high intraglomerular pressure, impairing glomerular filtration."
   ]
  },
  {
   "cell_type": "code",
   "execution_count": null,
   "metadata": {},
   "outputs": [],
   "source": [
    "data.hist(column = \"bp\", by = \"classification\")"
   ]
  },
  {
   "cell_type": "markdown",
   "metadata": {},
   "source": [
    "We can see that Blood Pressure is more for CKD positive group."
   ]
  },
  {
   "cell_type": "markdown",
   "metadata": {},
   "source": [
    "********************************************************************************************************************************************\n",
    "#### PUS CELL CLUMPS (PCC) :"
   ]
  },
  {
   "cell_type": "code",
   "execution_count": null,
   "metadata": {},
   "outputs": [],
   "source": [
    "data[data[\"classification\"] == \"positive\"].pcc.describe()"
   ]
  },
  {
   "cell_type": "code",
   "execution_count": null,
   "metadata": {},
   "outputs": [],
   "source": [
    "data[data[\"classification\"] == \"negative\"].pcc.describe()"
   ]
  },
  {
   "cell_type": "markdown",
   "metadata": {},
   "source": [
    "If we look at the PCC(Pus Cell Clump) for the patients, none of the sample in the healthy group reported PCC but 37 out of 159 people reported PCC in diseased group. We can say that there are chances of developing PCC if CKD is positive."
   ]
  },
  {
   "cell_type": "markdown",
   "metadata": {},
   "source": [
    "********************************************************************************************************************************************\n",
    "###  Serum Creatinine (SC) :\n",
    "\n",
    "Elevated creatinine level signifies impaired kidney function or kidney disease. As the kidneys become impaired for any reason, the creatinine level in the blood will rise due to poor clearance of creatinine by the kidneys. Abnormally high levels of creatinine thus warn of possible malfunction or failure of the kidneys.\n",
    "\n",
    "I want to plot a histogram of serum creatinine (SC) for both groups."
   ]
  },
  {
   "cell_type": "code",
   "execution_count": null,
   "metadata": {},
   "outputs": [],
   "source": [
    "plt.hist(data[data[\"classification\"] == \"negative\"].sc) #.hist(column = \"sc\")"
   ]
  },
  {
   "cell_type": "code",
   "execution_count": null,
   "metadata": {},
   "outputs": [],
   "source": [
    "plt.figure(figsize = (40,20))\n",
    "plt.hist(data[data[\"classification\"] == \"positive\"].sc, bins = 100)\n",
    "#plt.xticks(20)\n",
    "plt.xlabel(\"SC\", fontsize = 40)\n",
    "plt.rcParams['font.size'] = '40'\n",
    "xtcs = [i for i in range(31)]\n",
    "plt.xticks(xtcs)\n",
    "plt.show()"
   ]
  },
  {
   "cell_type": "markdown",
   "metadata": {},
   "source": [
    "The SC value, as expected, is between 1.2 and 1.7 for healthy group. But for CKD positive group, we can observe that it is even going up to 30.\n",
    "So, SC can be used as one of the best predictors for the CKD Diagnosis."
   ]
  },
  {
   "cell_type": "markdown",
   "metadata": {},
   "source": []
  },
  {
   "cell_type": "markdown",
   "metadata": {},
   "source": [
    "# CONCLUSION "
   ]
  },
  {
   "cell_type": "markdown",
   "metadata": {},
   "source": [
    "I have analyzed the bp, age, serum creatinine with classification. If we look at the correlation graph of age and classification, we can clearly notice that as the age increases the chances of getting CKD increases. If we check the correlation graph of bp and classification,it indicates that the patients with high blood pressure(bp) are more prone to CKD. Correlation graph of  serum creatinine (sc) with classification, shows that the patients who have more than 1.7 of serum creatinine level are positive with CKD. "
   ]
  },
  {
   "cell_type": "markdown",
   "metadata": {},
   "source": [
    "# SIGNIFICANCE OF MY WORK\n",
    "\n",
    "First, I separated the patients who are \"positive\" and \"negative\" with CKD, to get a basic idea of the dataset. Next, I planned to correlate the age and classification to know the impact of age on Chronic Kidney Disease, and the outcome I got is, as age increases people tend to get more prone to Chronic Kidney Disease (CKD). Research says that at age of 30 to 40, about two-thirds of people (even those who do not have kidney disease) undergo a gradual decline in the rate at which their kidneys filter blood. The reason is that as the age increases, there is a slow, steady decline in the weight of the kidneys, the amount of kidney tissue decreases and kidney function diminishes. The number of filtering units (nephrons) decreases by this the filtration of waste material from the blood reduces or slows down. With this, I can predict by analyzing the graph, that age can also be an important factor in the diagnosis of Chronic Kidney Disease (CKD).\n",
    "\n",
    "I wanted to check the impact of hypertension on CKD on this dataset. Here, with this dataset, I get to know that a lot of patients with high blood pressure are suffering with CKD already. By this, we have known that high blood pressure (hypertension) can lead to Kidney Disease. We can see that patients who are suffering from Hypertension can get CKD in the future. so, people who are with high blood pressure should follow a proper diet, should take medicines in time, and always monitor blood pressure more frequently. Everyone who is with Hypertension should take precautions.\n",
    "\n",
    "Creatinine is a non-protein nitrogenous compound that is produced by the breakdown of creatine in muscle. Creatine is synthesized in the liver, pancreas, and kidneys from the transamination of the amino acids arginine, glycine, and methionine. Creatinine is also considered an indicator of renal function. So, I correlated the serum creatinine levels of patients with classification and I noticed that the majority of patients who are above 1.7 mg/dL are suffering with CKD. By measuring Serum Creatinine(sc), we can diagnose which stage of CKD the patient is in. Then accordingly, the treatment is done to the patient, and also by checking the sc levels once a month can also help keep the disease under control.\n",
    "\n",
    "Along with it, I wanted to know how many of them with CKD positive, reported the pus cell clumps (pcc). Pus cell clumps are also called Pyuria. In addition to that, I also wanted to check this on CKD-negative patients. Then, I found out that 37 out of 159 people reported PCC in the diseased group. Here, I can predict that there are a few chances of developing Pus Cell Clumps (pcc) in patients who are suffering from CKD. The presence of pyuria (pus cell clumps (pcc)) is, in general, highly suggestive of Urinary Tract Infections (UTI), especially in symptomatic patients. Here, Pyuria seems to be common in patients with chronic kidney disease (CKD). Sterile pyuria is considered to occur in CKD owing to chronic renal parenchymal inflammation. However, there are limited data on whether CKD increases the rate of pyuria or how pyuria in CKD should be interpreted."
   ]
  },
  {
   "cell_type": "code",
   "execution_count": null,
   "metadata": {},
   "outputs": [],
   "source": []
  },
  {
   "cell_type": "code",
   "execution_count": null,
   "metadata": {},
   "outputs": [],
   "source": [
    "assert False, \"DO NOT REMOVE THIS LINE\""
   ]
  },
  {
   "cell_type": "code",
   "execution_count": null,
   "metadata": {},
   "outputs": [],
   "source": [
    "%%bash\n",
    "git pull\n",
    "git add final.ipynb\n",
    "git commit -a -m \"Submitting the final assignment\"\n",
    "git push"
   ]
  },
  {
   "cell_type": "code",
   "execution_count": null,
   "metadata": {},
   "outputs": [],
   "source": []
  }
 ],
 "metadata": {
  "kernelspec": {
   "display_name": "Python 3",
   "language": "python",
   "name": "python3"
  },
  "language_info": {
   "codemirror_mode": {
    "name": "ipython",
    "version": 3
   },
   "file_extension": ".py",
   "mimetype": "text/x-python",
   "name": "python",
   "nbconvert_exporter": "python",
   "pygments_lexer": "ipython3",
   "version": "3.6.7"
  }
 },
 "nbformat": 4,
 "nbformat_minor": 4
}
